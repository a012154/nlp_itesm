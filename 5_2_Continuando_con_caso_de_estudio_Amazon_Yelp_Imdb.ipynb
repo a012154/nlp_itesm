{
  "nbformat": 4,
  "nbformat_minor": 0,
  "metadata": {
    "colab": {
      "provenance": []
    },
    "kernelspec": {
      "name": "python3",
      "display_name": "Python 3"
    },
    "language_info": {
      "name": "python"
    }
  },
  "cells": [
    {
      "cell_type": "code",
      "execution_count": 4,
      "metadata": {
        "id": "BfDSo7tynVss"
      },
      "outputs": [],
      "source": [
        "import pandas as pd\n",
        "import numpy as np\n",
        "import nltk\n",
        "from nltk.corpus import stopwords\n",
        "from nltk.stem import WordNetLemmatizer\n",
        "import re\n",
        "from nltk.tokenize import word_tokenize\n",
        "import matplotlib.pyplot as plt"
      ]
    },
    {
      "cell_type": "code",
      "source": [
        "nltk.download('stopwords')\n",
        "nltk.download('wordnet')\n",
        "nltk.download('punkt') "
      ],
      "metadata": {
        "colab": {
          "base_uri": "https://localhost:8080/"
        },
        "id": "ef2I6wwYvU6X",
        "outputId": "9df15b8d-2bcc-4a39-e43f-aa6b0288f5fc"
      },
      "execution_count": 5,
      "outputs": [
        {
          "output_type": "stream",
          "name": "stderr",
          "text": [
            "[nltk_data] Downloading package stopwords to /root/nltk_data...\n",
            "[nltk_data]   Unzipping corpora/stopwords.zip.\n",
            "[nltk_data] Downloading package wordnet to /root/nltk_data...\n",
            "[nltk_data] Downloading package punkt to /root/nltk_data...\n",
            "[nltk_data]   Unzipping tokenizers/punkt.zip.\n"
          ]
        },
        {
          "output_type": "execute_result",
          "data": {
            "text/plain": [
              "True"
            ]
          },
          "metadata": {},
          "execution_count": 5
        }
      ]
    },
    {
      "cell_type": "code",
      "source": [
        "dfa = pd.read_csv('amazon5.txt', sep='\\t', names=['review','label'], header=None, encoding='utf-8')\n",
        "dfi = pd.read_csv('imdb5.txt', delimiter='\\s{3,4}', names=['review','label'], header=None, encoding='utf-8')\n",
        "dfy = pd.read_csv('yelp5.txt', sep='\\t', names=['review','label'], header=None, encoding='utf-8')\n",
        "\n",
        "print('Total de registros de Amazon:', dfa.shape)\n",
        "print('Total de registros de IMBD:', dfi.shape)\n",
        "print('Total de registros de Yelp:', dfy.shape)"
      ],
      "metadata": {
        "colab": {
          "base_uri": "https://localhost:8080/"
        },
        "id": "IxrcJcebns1q",
        "outputId": "4ac8260d-b32c-4cad-f0e4-1e8df5451600"
      },
      "execution_count": 6,
      "outputs": [
        {
          "output_type": "stream",
          "name": "stdout",
          "text": [
            "Total de registros de Amazon: (1000, 2)\n",
            "Total de registros de IMBD: (1000, 2)\n",
            "Total de registros de Yelp: (1000, 2)\n"
          ]
        },
        {
          "output_type": "stream",
          "name": "stderr",
          "text": [
            "<ipython-input-6-47a3d1028d09>:2: ParserWarning: Falling back to the 'python' engine because the 'c' engine does not support regex separators (separators > 1 char and different from '\\s+' are interpreted as regex); you can avoid this warning by specifying engine='python'.\n",
            "  dfi = pd.read_csv('imdb5.txt', delimiter='\\s{3,4}', names=['review','label'], header=None, encoding='utf-8')\n"
          ]
        }
      ]
    },
    {
      "cell_type": "code",
      "source": [
        "df = pd.concat([dfa, dfi, dfy], ignore_index=True)   \n",
        "df.info()"
      ],
      "metadata": {
        "colab": {
          "base_uri": "https://localhost:8080/"
        },
        "id": "5-vYD-BrodIW",
        "outputId": "c1c573a4-68f2-4db4-da2f-7a8795be7c56"
      },
      "execution_count": 7,
      "outputs": [
        {
          "output_type": "stream",
          "name": "stdout",
          "text": [
            "<class 'pandas.core.frame.DataFrame'>\n",
            "RangeIndex: 3000 entries, 0 to 2999\n",
            "Data columns (total 2 columns):\n",
            " #   Column  Non-Null Count  Dtype \n",
            "---  ------  --------------  ----- \n",
            " 0   review  3000 non-null   object\n",
            " 1   label   3000 non-null   int64 \n",
            "dtypes: int64(1), object(1)\n",
            "memory usage: 47.0+ KB\n"
          ]
        }
      ]
    },
    {
      "cell_type": "code",
      "source": [
        "df['label'].value_counts()"
      ],
      "metadata": {
        "colab": {
          "base_uri": "https://localhost:8080/"
        },
        "id": "PKZoqOrTn5qb",
        "outputId": "a3491e2c-ec8d-4859-8841-4b55b7844cf9"
      },
      "execution_count": 8,
      "outputs": [
        {
          "output_type": "execute_result",
          "data": {
            "text/plain": [
              "0    1500\n",
              "1    1500\n",
              "Name: label, dtype: int64"
            ]
          },
          "metadata": {},
          "execution_count": 8
        }
      ]
    },
    {
      "cell_type": "code",
      "source": [
        "X = df.review     # Serie de strings\n",
        "Y = df.label      # Serie de enteros 0s y 1s\n",
        "\n",
        "assert X.shape == (3000,)         \n",
        "assert Y.shape == (3000,)"
      ],
      "metadata": {
        "id": "WftbOn4MouS4"
      },
      "execution_count": 9,
      "outputs": []
    },
    {
      "cell_type": "code",
      "source": [
        "negwords = [ 'no', 'nor', 'not', 'ain', 'aren', \"aren't\", 'don', \"don't\", 'couldn', \"couldn't\", 'didn', \"didn't\", 'doesn', \"doesn't\", 'hadn', \"hadn't\", 'hasn', \"hasn't\", 'haven', \"haven't\", 'isn', \"isn't\", 'mightn', \"mightn't\", 'mustn', \"mustn't\", 'needn', \"needn't\", 'shan', \"shan't\", 'shouldn', \"shouldn't\", 'wasn', \"wasn't\", 'weren', \"weren't\", 'won', \"won't\", 'wouldn', \"wouldn't\"]\n",
        "mystopwords = [word for word in stopwords.words('english').copy() if word not in negwords]\n",
        "print(len(mystopwords))\n",
        "print(mystopwords)"
      ],
      "metadata": {
        "colab": {
          "base_uri": "https://localhost:8080/"
        },
        "id": "8gHQldvByTGC",
        "outputId": "490f982d-75d0-42da-f2b7-98fd2d53590b"
      },
      "execution_count": 10,
      "outputs": [
        {
          "output_type": "stream",
          "name": "stdout",
          "text": [
            "139\n",
            "['i', 'me', 'my', 'myself', 'we', 'our', 'ours', 'ourselves', 'you', \"you're\", \"you've\", \"you'll\", \"you'd\", 'your', 'yours', 'yourself', 'yourselves', 'he', 'him', 'his', 'himself', 'she', \"she's\", 'her', 'hers', 'herself', 'it', \"it's\", 'its', 'itself', 'they', 'them', 'their', 'theirs', 'themselves', 'what', 'which', 'who', 'whom', 'this', 'that', \"that'll\", 'these', 'those', 'am', 'is', 'are', 'was', 'were', 'be', 'been', 'being', 'have', 'has', 'had', 'having', 'do', 'does', 'did', 'doing', 'a', 'an', 'the', 'and', 'but', 'if', 'or', 'because', 'as', 'until', 'while', 'of', 'at', 'by', 'for', 'with', 'about', 'against', 'between', 'into', 'through', 'during', 'before', 'after', 'above', 'below', 'to', 'from', 'up', 'down', 'in', 'out', 'on', 'off', 'over', 'under', 'again', 'further', 'then', 'once', 'here', 'there', 'when', 'where', 'why', 'how', 'all', 'any', 'both', 'each', 'few', 'more', 'most', 'other', 'some', 'such', 'only', 'own', 'same', 'so', 'than', 'too', 'very', 's', 't', 'can', 'will', 'just', 'should', \"should've\", 'now', 'd', 'll', 'm', 'o', 're', 've', 'y', 'ma']\n"
          ]
        }
      ]
    },
    {
      "cell_type": "code",
      "source": [
        "def clean_token(doc):\n",
        "  doc = re.sub(r'\\.(?=[^\\s])', '. ', doc)\n",
        "  tokens = word_tokenize(doc)\n",
        "  tokens = [word.lower() for word in tokens]\n",
        "  tokens = [word for word in tokens if word.isalpha()]\n",
        "  tokens = [word for word in tokens if word not in mystopwords]\n",
        "  tokens = [word for word in tokens if len(word) > 1]\n",
        "\n",
        "  return tokens"
      ],
      "metadata": {
        "id": "0BGQpF-MxuWc"
      },
      "execution_count": 11,
      "outputs": []
    },
    {
      "cell_type": "code",
      "source": [
        "X.head(5)"
      ],
      "metadata": {
        "colab": {
          "base_uri": "https://localhost:8080/"
        },
        "id": "WEUJxsMSyzPk",
        "outputId": "85867308-a95d-4ad6-9b71-eee4ce584d28"
      },
      "execution_count": 12,
      "outputs": [
        {
          "output_type": "execute_result",
          "data": {
            "text/plain": [
              "0    So there is no way for me to plug it in here i...\n",
              "1                          Good case, Excellent value.\n",
              "2                               Great for the jawbone.\n",
              "3    Tied to charger for conversations lasting more...\n",
              "4                                    The mic is great.\n",
              "Name: review, dtype: object"
            ]
          },
          "metadata": {},
          "execution_count": 12
        }
      ]
    },
    {
      "cell_type": "code",
      "source": [
        "Xcleantok = [clean_token(x) for x in X]   "
      ],
      "metadata": {
        "id": "sSW4UBSoyjau"
      },
      "execution_count": 13,
      "outputs": []
    },
    {
      "cell_type": "code",
      "source": [
        "for x in Xcleantok[0:5]:\n",
        "  print(x)"
      ],
      "metadata": {
        "colab": {
          "base_uri": "https://localhost:8080/"
        },
        "id": "ay-VSu0Dym9s",
        "outputId": "1b1f5def-5b1a-4294-aa37-11234ac746ec"
      },
      "execution_count": 14,
      "outputs": [
        {
          "output_type": "stream",
          "name": "stdout",
          "text": [
            "['no', 'way', 'plug', 'us', 'unless', 'go', 'converter']\n",
            "['good', 'case', 'excellent', 'value']\n",
            "['great', 'jawbone']\n",
            "['tied', 'charger', 'conversations', 'lasting', 'minutes', 'major', 'problems']\n",
            "['mic', 'great']\n"
          ]
        }
      ]
    },
    {
      "cell_type": "code",
      "source": [
        "lemmatizer = WordNetLemmatizer()\n",
        "\n",
        "def clean_doc(doc):  \n",
        "  tokens = [lemmatizer.lemmatize(word) for word in doc]\n",
        "  # reemplaza cualquier carácter que se repita más de dos veces seguidas por dos ocurrencias de ese carácter. Por ejemplo, 'sooooo good' se convierte en 'soo good'.\n",
        "  tokens = [re.sub(r'(.)\\1{2,}', r'\\1\\1', word) for word in tokens]\n",
        "\n",
        "  return tokens"
      ],
      "metadata": {
        "id": "cHl_LbrGzE22"
      },
      "execution_count": 15,
      "outputs": []
    },
    {
      "cell_type": "code",
      "source": [
        "Xclean = [clean_doc(x) for x in Xcleantok]  \n"
      ],
      "metadata": {
        "id": "4S9BYrOKzUQM"
      },
      "execution_count": 16,
      "outputs": []
    },
    {
      "cell_type": "code",
      "source": [
        "Xclean[0:5]  "
      ],
      "metadata": {
        "colab": {
          "base_uri": "https://localhost:8080/"
        },
        "id": "LRlj0c1nzVFt",
        "outputId": "b01d7359-df8c-40df-aeed-c0317425e2da"
      },
      "execution_count": 17,
      "outputs": [
        {
          "output_type": "execute_result",
          "data": {
            "text/plain": [
              "[['no', 'way', 'plug', 'u', 'unless', 'go', 'converter'],\n",
              " ['good', 'case', 'excellent', 'value'],\n",
              " ['great', 'jawbone'],\n",
              " ['tied', 'charger', 'conversation', 'lasting', 'minute', 'major', 'problem'],\n",
              " ['mic', 'great']]"
            ]
          },
          "metadata": {},
          "execution_count": 17
        }
      ]
    },
    {
      "cell_type": "code",
      "source": [
        "from sklearn.model_selection import train_test_split\n",
        "\n",
        "x_train, x_val_and_test, y_train, y_val_and_test = train_test_split(Xclean, Y, train_size=.70, shuffle=True, random_state=1) \n",
        "x_val, x_test, y_val, y_test = train_test_split(x_val_and_test, y_val_and_test, test_size=.50, shuffle=True, random_state=17)\n",
        "\n",
        "print('X,y Train:', len(x_train), len(y_train))      # los \"x_\" son \"list\" y los \"y_\" son \"Series\"\n",
        "print('X,y Val:', len(x_val), len(y_val))\n",
        "print('X,y Test', len(x_test), len(y_test))"
      ],
      "metadata": {
        "colab": {
          "base_uri": "https://localhost:8080/"
        },
        "id": "ZAh2iDgezlwb",
        "outputId": "fe026abe-9b71-4840-f9c5-a4a46f130ffc"
      },
      "execution_count": 18,
      "outputs": [
        {
          "output_type": "stream",
          "name": "stdout",
          "text": [
            "X,y Train: 2100 2100\n",
            "X,y Val: 450 450\n",
            "X,y Test 450 450\n"
          ]
        }
      ]
    },
    {
      "cell_type": "code",
      "source": [
        "from collections import Counter\n",
        "\n",
        "midiccionario = Counter()    \n",
        "\n",
        "for k in range(len(x_train)):\n",
        "  midiccionario.update(x_train[k])\n",
        "\n",
        "print('Longitud del diccionario:', len(midiccionario))  \n",
        "print('\\n(word,frequency):') \n",
        "print(midiccionario.most_common(10)) "
      ],
      "metadata": {
        "colab": {
          "base_uri": "https://localhost:8080/"
        },
        "id": "oDAfy1I90wH3",
        "outputId": "abedc6ce-be29-4143-d368-a2b9ff03f325"
      },
      "execution_count": 19,
      "outputs": [
        {
          "output_type": "stream",
          "name": "stdout",
          "text": [
            "Longitud del diccionario: 3595\n",
            "\n",
            "(word,frequency):\n",
            "[('not', 225), ('good', 161), ('movie', 140), ('great', 138), ('phone', 133), ('film', 125), ('time', 100), ('one', 99), ('like', 88), ('work', 86)]\n"
          ]
        }
      ]
    },
    {
      "cell_type": "code",
      "source": [
        "plt.plot(list(np.arange(len(midiccionario))), list(midiccionario.values()), color='blue')\n",
        "plt.show()"
      ],
      "metadata": {
        "colab": {
          "base_uri": "https://localhost:8080/",
          "height": 430
        },
        "id": "q0x1k-211P6q",
        "outputId": "74e596ae-8847-4129-bc60-ac6b93b891e5"
      },
      "execution_count": 20,
      "outputs": [
        {
          "output_type": "display_data",
          "data": {
            "text/plain": [
              "<Figure size 640x480 with 1 Axes>"
            ],
            "image/png": "[encoded data removed]"
          },
          "metadata": {}
        }
      ]
    },
    {
      "cell_type": "code",
      "source": [
        "min_freq = 2\n",
        "midicc = { word: count for word, count in midiccionario.items() if count >= min_freq}\n",
        "\n",
        "print('Nueva longitud del nuevo vocabulario:', len(midicc))\n",
        "print(list(midicc.items())[0:5])     "
      ],
      "metadata": {
        "colab": {
          "base_uri": "https://localhost:8080/"
        },
        "id": "YbCB_o461XUm",
        "outputId": "e9e6930e-0cfd-4e5b-ef5c-9950e97a7e86"
      },
      "execution_count": 21,
      "outputs": [
        {
          "output_type": "stream",
          "name": "stdout",
          "text": [
            "Nueva longitud del nuevo vocabulario: 1510\n",
            "[('fare', 2), ('much', 39), ('better', 38), ('people', 23), ('like', 88)]\n"
          ]
        }
      ]
    },
    {
      "cell_type": "code",
      "source": [
        "sorted_dic = sorted(midiccionario.items(), key=lambda x: x[1], reverse=True)\n",
        "\n",
        "midicc = dict(sorted_dic[:1500])\n",
        "\n",
        "print('Nueva longitud del nuevo vocabulario:', len(midicc))\n",
        "print(list(midicc.items())[0:5]) \n"
      ],
      "metadata": {
        "colab": {
          "base_uri": "https://localhost:8080/"
        },
        "id": "-6_gnqH01_94",
        "outputId": "151c3709-1c8a-46c0-ba50-0450fca9d447"
      },
      "execution_count": 22,
      "outputs": [
        {
          "output_type": "stream",
          "name": "stdout",
          "text": [
            "Nueva longitud del nuevo vocabulario: 1500\n",
            "[('not', 225), ('good', 161), ('movie', 140), ('great', 138), ('phone', 133)]\n"
          ]
        }
      ]
    },
    {
      "cell_type": "code",
      "source": [
        "plt.plot(list(np.arange(len(midicc))), list(midicc.values()), color='blue')\n",
        "plt.show()"
      ],
      "metadata": {
        "colab": {
          "base_uri": "https://localhost:8080/",
          "height": 430
        },
        "id": "_HYoG8RG2PjY",
        "outputId": "4e3d97dc-277d-4f87-f20f-b8b6032de337"
      },
      "execution_count": 23,
      "outputs": [
        {
          "output_type": "display_data",
          "data": {
            "text/plain": [
              "<Figure size 640x480 with 1 Axes>"
            ],
            "image/png": "[encoded data removed]"
          },
          "metadata": {}
        }
      ]
    },
    {
      "cell_type": "code",
      "source": [
        "train_x = []\n",
        "for ss in x_train:\n",
        "  train_x.append([w for w in ss if w in midicc])\n",
        "\n",
        "val_x = []\n",
        "for ss in x_val:\n",
        "  val_x.append([w for w in ss if w in midicc])\n",
        "\n",
        "test_x = []\n",
        "for ss in x_test:\n",
        "  test_x.append([w for w in ss if w in midicc])"
      ],
      "metadata": {
        "id": "NOKSAiPA84zP"
      },
      "execution_count": 24,
      "outputs": []
    },
    {
      "cell_type": "code",
      "source": [
        "for k in range(3):\n",
        "  print('Antes:', x_train[k])\n",
        "  print('Después:', train_x[k])"
      ],
      "metadata": {
        "colab": {
          "base_uri": "https://localhost:8080/"
        },
        "id": "37YKODkc86jU",
        "outputId": "6ab07ea9-58a7-457b-a6d3-ea2130e84cd3"
      },
      "execution_count": 25,
      "outputs": [
        {
          "output_type": "stream",
          "name": "stdout",
          "text": [
            "Antes: ['fare', 'much', 'better', 'people', 'like', 'morgan', 'freeman', 'jonah', 'hill', 'ed', 'helm', 'wasted']\n",
            "Después: ['fare', 'much', 'better', 'people', 'like', 'morgan', 'ed', 'wasted']\n",
            "Antes: ['tonight', 'elk', 'filet', 'special', 'sucked']\n",
            "Después: ['tonight', 'filet', 'special', 'sucked']\n",
            "Antes: ['paid', 'bill', 'not', 'tip', 'felt', 'server', 'terrible', 'job']\n",
            "Después: ['paid', 'bill', 'not', 'tip', 'felt', 'server', 'terrible', 'job']\n"
          ]
        }
      ]
    },
    {
      "cell_type": "markdown",
      "source": [
        "#FastText, word2vec de Google y Glove de Stanford\n",
        "\n",
        "| Modelo | Pros | Contras |\n",
        "|---|---|---|\n",
        "|**FastText** (Facebook)|<ul><li>Capaz de generar vectores para palabras fuera del vocabulario entrenado, debido a su enfoque en los n-gramas de caracteres.</li><li>Maneja bien las palabras mal escritas o las palabras con errores de ortografía.</li><li>Soporta más de 150 idiomas.</li><li>Modelos preentrenados fácilmente disponibles.</li></ul>|<ul><li>El tamaño del modelo puede ser bastante grande debido al enfoque en los n-gramas.</li><li>Los vectores generados para palabras fuera del vocabulario pueden no ser siempre semánticamente precisos.</li></ul>|\n",
        "|**Word2Vec** (Google)|<ul><li>Fácil de usar y comprende dos arquitecturas (CBOW y Skip-Gram), lo que ofrece flexibilidad.</li><li>Los vectores de palabras capturan semánticamente las relaciones entre las palabras (por ejemplo, \"rey\" - \"hombre\" + \"mujer\" se acerca a \"reina\").</li><li>Los modelos preentrenados están fácilmente disponibles.</li></ul>|<ul><li>No puede generar vectores para palabras fuera del vocabulario entrenado.</li><li>El rendimiento puede ser menor para palabras raras o mal escritas.</li></ul>|\n",
        "|**GloVe** (Stanford)|<ul><li>Captura tanto la semántica local como la global de las palabras, lo que puede dar lugar a vectores de palabras más precisos.</li><li>Los vectores de palabras capturan semánticamente las relaciones entre las palabras.</li><li>Los modelos preentrenados están fácilmente disponibles.</li></ul>|<ul><li>No puede generar vectores para palabras fuera del vocabulario entrenado.</li><li>El rendimiento puede ser inferior para palabras raras o mal escritas.</li></ul>|\n",
        "\n"
      ],
      "metadata": {
        "id": "E7msOflg-g90"
      }
    },
    {
      "cell_type": "markdown",
      "source": [
        "## **FastText**"
      ],
      "metadata": {
        "id": "-gZFPkLY92V3"
      }
    },
    {
      "cell_type": "code",
      "source": [
        "!pip install fasttext"
      ],
      "metadata": {
        "colab": {
          "base_uri": "https://localhost:8080/"
        },
        "id": "-seQNxqI-PhR",
        "outputId": "855ec6f2-80ed-4872-bd6d-19a91660c57c"
      },
      "execution_count": 26,
      "outputs": [
        {
          "output_type": "stream",
          "name": "stdout",
          "text": [
            "Looking in indexes: https://pypi.org/simple, https://us-python.pkg.dev/colab-wheels/public/simple/\n",
            "Requirement already satisfied: fasttext in /usr/local/lib/python3.10/dist-packages (0.9.2)\n",
            "Requirement already satisfied: pybind11>=2.2 in /usr/local/lib/python3.10/dist-packages (from fasttext) (2.10.4)\n",
            "Requirement already satisfied: setuptools>=0.7.0 in /usr/local/lib/python3.10/dist-packages (from fasttext) (67.7.2)\n",
            "Requirement already satisfied: numpy in /usr/local/lib/python3.10/dist-packages (from fasttext) (1.22.4)\n"
          ]
        }
      ]
    },
    {
      "cell_type": "code",
      "source": [
        "import pickle\n",
        "import fasttext\n",
        "import fasttext.util\n",
        "fasttext.util.download_model('en', if_exists='ignore')  # English\n",
        "ft = fasttext.load_model('cc.en.300.bin')\n",
        "# Construimos el diccionario de palabras y sus vectores embebidos\n",
        "embedding_dict = {word: ft.get_word_vector(word) for word in midicc.keys()}\n",
        "\n",
        "# Guardamos el diccionario para uso futuro\n",
        "with open('embedding_dict.pickle', 'wb') as handle:\n",
        "    pickle.dump(embedding_dict, handle, protocol=pickle.HIGHEST_PROTOCOL)\n",
        "\n",
        "# Borramos la variable de FastText para liberar memoria RAM\n",
        "del ft"
      ],
      "metadata": {
        "colab": {
          "base_uri": "https://localhost:8080/"
        },
        "id": "PPLjbye03Go_",
        "outputId": "a76f68c0-0dde-4af6-e0d1-72bea1bb0293"
      },
      "execution_count": 27,
      "outputs": [
        {
          "output_type": "stream",
          "name": "stdout",
          "text": [
            "Downloading https://dl.fbaipublicfiles.com/fasttext/vectors-crawl/cc.en.300.bin.gz\n",
            "\n"
          ]
        },
        {
          "output_type": "stream",
          "name": "stderr",
          "text": [
            "Warning : `load_model` does not return WordVectorModel or SupervisedModel any more, but a `FastText` object which is very similar.\n"
          ]
        }
      ]
    },
    {
      "cell_type": "code",
      "source": [
        "def comment_to_vector(comment):\n",
        "    embeddings = []\n",
        "    for word in comment:\n",
        "        embedding = embedding_dict.get(word, np.zeros(300))\n",
        "        embeddings.append(embedding)\n",
        "    if embeddings:\n",
        "        average_embedding = np.mean(embeddings, axis=0)\n",
        "    else:\n",
        "        average_embedding = np.zeros(300)  \n",
        "    return average_embedding\n"
      ],
      "metadata": {
        "id": "0kcmrh1g_r9C"
      },
      "execution_count": 31,
      "outputs": []
    },
    {
      "cell_type": "code",
      "source": [
        "trainEmb = np.array([comment_to_vector(comment) for comment in train_x])\n",
        "\n",
        "valEmb = np.array([comment_to_vector(comment) for comment in val_x])\n",
        "\n",
        "testEmb = np.array([comment_to_vector(comment) for comment in test_x])"
      ],
      "metadata": {
        "id": "Gz1wvRmw-do7"
      },
      "execution_count": 32,
      "outputs": []
    },
    {
      "cell_type": "code",
      "source": [
        "from sklearn.linear_model import LogisticRegression\n",
        "from sklearn.ensemble import RandomForestClassifier\n",
        "from sklearn.naive_bayes import MultinomialNB"
      ],
      "metadata": {
        "id": "FGB9DMI9AiTP"
      },
      "execution_count": 33,
      "outputs": []
    },
    {
      "cell_type": "code",
      "source": [
        "modeloLR = LogisticRegression(max_iter=1000)\n",
        "modeloLR.fit(trainEmb, y_train)\n",
        "\n",
        "modeloRF = RandomForestClassifier(n_estimators=100, random_state=0)\n",
        "modeloRF.fit(trainEmb, y_train)\n",
        "\n",
        "\n",
        "print('LR: Train-accuracy: %.2f%%' % (100*modeloLR.score(trainEmb, y_train)))\n",
        "print('LR: Val-accuracy: %2.f%%' % (100*modeloLR.score(valEmb, y_val)))\n",
        "\n",
        "print('\\nRF: Train-accuracy: %.2f%%' % (100*modeloRF.score(trainEmb, y_train)))\n",
        "print('RF: Val-accuracy: %.2f%%' % (100*modeloRF.score(valEmb, y_val)))\n"
      ],
      "metadata": {
        "colab": {
          "base_uri": "https://localhost:8080/"
        },
        "id": "jq6vY6RdAkaj",
        "outputId": "1ba98253-9480-43e1-e263-f79fe845f3b9"
      },
      "execution_count": 36,
      "outputs": [
        {
          "output_type": "stream",
          "name": "stdout",
          "text": [
            "LR: Train-accuracy: 84.43%\n",
            "LR: Val-accuracy: 82%\n",
            "\n",
            "RF: Train-accuracy: 99.62%\n",
            "RF: Val-accuracy: 80.22%\n"
          ]
        }
      ]
    },
    {
      "cell_type": "code",
      "source": [
        "from sklearn.metrics import confusion_matrix\n",
        "print('Test-accuracy con el mejor modelo Tf-idf %.2f%%' % (100*modeloLR.score(testEmb, y_test)))\n",
        "\n",
        "pred = modeloLR.predict(testEmb)\n",
        "print('\\nMatriz de confusión con el mejor modelo Tf-idf:')\n",
        "print(confusion_matrix(y_test, pred, labels=[0,1]))\n",
        "\n",
        "print('\\nMatriz de confusión con el mejor modelo de Tf-idf en proporciones:')\n",
        "print(confusion_matrix(y_test, pred, labels=[0,1]) / pred.shape[0])"
      ],
      "metadata": {
        "colab": {
          "base_uri": "https://localhost:8080/"
        },
        "id": "W3cz10vJBoSe",
        "outputId": "3c9a8227-c4f3-433e-f748-2049434059a6"
      },
      "execution_count": 37,
      "outputs": [
        {
          "output_type": "stream",
          "name": "stdout",
          "text": [
            "Test-accuracy con el mejor modelo Tf-idf 82.22%\n",
            "\n",
            "Matriz de confusión con el mejor modelo Tf-idf:\n",
            "[[175  41]\n",
            " [ 39 195]]\n",
            "\n",
            "Matriz de confusión con el mejor modelo de Tf-idf en proporciones:\n",
            "[[0.38888889 0.09111111]\n",
            " [0.08666667 0.43333333]]\n"
          ]
        }
      ]
    },
    {
      "cell_type": "code",
      "source": [
        "from sklearn.model_selection import GridSearchCV\n",
        "\n",
        "param_grid = {\n",
        "    'C': [0.1, 1, 10, 100], \n",
        "    'penalty': ['l1', 'l2'], \n",
        "    'solver': ['liblinear', 'saga']\n",
        "} \n",
        "\n",
        "grid = GridSearchCV(LogisticRegression(max_iter=1000), param_grid, cv=5, verbose=3)\n",
        "grid.fit(trainEmb, y_train)\n",
        "\n",
        "print(\"Best parameters found: \", grid.best_params_)\n",
        "print(\"Best score found: \", grid.best_score_)"
      ],
      "metadata": {
        "colab": {
          "base_uri": "https://localhost:8080/"
        },
        "id": "v_1roAsII5CB",
        "outputId": "30cee82b-3107-465a-f584-b33075fb4b91"
      },
      "execution_count": 43,
      "outputs": [
        {
          "output_type": "stream",
          "name": "stdout",
          "text": [
            "Fitting 5 folds for each of 16 candidates, totalling 80 fits\n",
            "[CV 1/5] END C=0.1, penalty=l1, solver=liblinear;, score=0.555 total time=   0.1s\n",
            "[CV 2/5] END C=0.1, penalty=l1, solver=liblinear;, score=0.610 total time=   0.1s\n",
            "[CV 3/5] END C=0.1, penalty=l1, solver=liblinear;, score=0.567 total time=   0.1s\n",
            "[CV 4/5] END C=0.1, penalty=l1, solver=liblinear;, score=0.507 total time=   0.1s\n",
            "[CV 5/5] END C=0.1, penalty=l1, solver=liblinear;, score=0.588 total time=   0.1s\n",
            "[CV 1/5] END ....C=0.1, penalty=l1, solver=saga;, score=0.557 total time=   1.3s\n",
            "[CV 2/5] END ....C=0.1, penalty=l1, solver=saga;, score=0.617 total time=   1.3s\n",
            "[CV 3/5] END ....C=0.1, penalty=l1, solver=saga;, score=0.550 total time=   1.2s\n",
            "[CV 4/5] END ....C=0.1, penalty=l1, solver=saga;, score=0.507 total time=   0.2s\n",
            "[CV 5/5] END ....C=0.1, penalty=l1, solver=saga;, score=0.507 total time=   0.3s\n",
            "[CV 1/5] END C=0.1, penalty=l2, solver=liblinear;, score=0.736 total time=   0.0s\n",
            "[CV 2/5] END C=0.1, penalty=l2, solver=liblinear;, score=0.798 total time=   0.0s\n",
            "[CV 3/5] END C=0.1, penalty=l2, solver=liblinear;, score=0.819 total time=   0.0s\n",
            "[CV 4/5] END C=0.1, penalty=l2, solver=liblinear;, score=0.805 total time=   0.0s\n",
            "[CV 5/5] END C=0.1, penalty=l2, solver=liblinear;, score=0.767 total time=   0.1s\n",
            "[CV 1/5] END ....C=0.1, penalty=l2, solver=saga;, score=0.743 total time=   0.2s\n",
            "[CV 2/5] END ....C=0.1, penalty=l2, solver=saga;, score=0.793 total time=   0.2s\n",
            "[CV 3/5] END ....C=0.1, penalty=l2, solver=saga;, score=0.819 total time=   0.2s\n",
            "[CV 4/5] END ....C=0.1, penalty=l2, solver=saga;, score=0.800 total time=   0.2s\n",
            "[CV 5/5] END ....C=0.1, penalty=l2, solver=saga;, score=0.767 total time=   0.2s\n",
            "[CV 1/5] END .C=1, penalty=l1, solver=liblinear;, score=0.786 total time=   0.1s\n",
            "[CV 2/5] END .C=1, penalty=l1, solver=liblinear;, score=0.805 total time=   0.1s\n",
            "[CV 3/5] END .C=1, penalty=l1, solver=liblinear;, score=0.833 total time=   0.1s\n",
            "[CV 4/5] END .C=1, penalty=l1, solver=liblinear;, score=0.824 total time=   0.1s\n",
            "[CV 5/5] END .C=1, penalty=l1, solver=liblinear;, score=0.771 total time=   0.1s\n",
            "[CV 1/5] END ......C=1, penalty=l1, solver=saga;, score=0.779 total time=   4.3s\n",
            "[CV 2/5] END ......C=1, penalty=l1, solver=saga;, score=0.800 total time=   4.7s\n",
            "[CV 3/5] END ......C=1, penalty=l1, solver=saga;, score=0.833 total time=   4.0s\n",
            "[CV 4/5] END ......C=1, penalty=l1, solver=saga;, score=0.824 total time=   4.6s\n",
            "[CV 5/5] END ......C=1, penalty=l1, solver=saga;, score=0.771 total time=   2.2s\n",
            "[CV 1/5] END .C=1, penalty=l2, solver=liblinear;, score=0.795 total time=   0.1s\n",
            "[CV 2/5] END .C=1, penalty=l2, solver=liblinear;, score=0.824 total time=   0.1s\n",
            "[CV 3/5] END .C=1, penalty=l2, solver=liblinear;, score=0.836 total time=   0.1s\n",
            "[CV 4/5] END .C=1, penalty=l2, solver=liblinear;, score=0.819 total time=   0.1s\n",
            "[CV 5/5] END .C=1, penalty=l2, solver=liblinear;, score=0.795 total time=   0.2s\n",
            "[CV 1/5] END ......C=1, penalty=l2, solver=saga;, score=0.795 total time=   0.9s\n",
            "[CV 2/5] END ......C=1, penalty=l2, solver=saga;, score=0.824 total time=   0.6s\n",
            "[CV 3/5] END ......C=1, penalty=l2, solver=saga;, score=0.836 total time=   0.5s\n",
            "[CV 4/5] END ......C=1, penalty=l2, solver=saga;, score=0.819 total time=   0.5s\n",
            "[CV 5/5] END ......C=1, penalty=l2, solver=saga;, score=0.795 total time=   0.3s\n",
            "[CV 1/5] END C=10, penalty=l1, solver=liblinear;, score=0.790 total time=   0.4s\n",
            "[CV 2/5] END C=10, penalty=l1, solver=liblinear;, score=0.821 total time=   0.8s\n",
            "[CV 3/5] END C=10, penalty=l1, solver=liblinear;, score=0.838 total time=   0.9s\n",
            "[CV 4/5] END C=10, penalty=l1, solver=liblinear;, score=0.850 total time=   0.9s\n",
            "[CV 5/5] END C=10, penalty=l1, solver=liblinear;, score=0.790 total time=   1.4s\n"
          ]
        },
        {
          "output_type": "stream",
          "name": "stderr",
          "text": [
            "/usr/local/lib/python3.10/dist-packages/sklearn/linear_model/_sag.py:350: ConvergenceWarning: The max_iter was reached which means the coef_ did not converge\n",
            "  warnings.warn(\n"
          ]
        },
        {
          "output_type": "stream",
          "name": "stdout",
          "text": [
            "[CV 1/5] END .....C=10, penalty=l1, solver=saga;, score=0.790 total time=   9.8s\n"
          ]
        },
        {
          "output_type": "stream",
          "name": "stderr",
          "text": [
            "/usr/local/lib/python3.10/dist-packages/sklearn/linear_model/_sag.py:350: ConvergenceWarning: The max_iter was reached which means the coef_ did not converge\n",
            "  warnings.warn(\n"
          ]
        },
        {
          "output_type": "stream",
          "name": "stdout",
          "text": [
            "[CV 2/5] END .....C=10, penalty=l1, solver=saga;, score=0.814 total time=   9.8s\n"
          ]
        },
        {
          "output_type": "stream",
          "name": "stderr",
          "text": [
            "/usr/local/lib/python3.10/dist-packages/sklearn/linear_model/_sag.py:350: ConvergenceWarning: The max_iter was reached which means the coef_ did not converge\n",
            "  warnings.warn(\n"
          ]
        },
        {
          "output_type": "stream",
          "name": "stdout",
          "text": [
            "[CV 3/5] END .....C=10, penalty=l1, solver=saga;, score=0.836 total time=   8.5s\n"
          ]
        },
        {
          "output_type": "stream",
          "name": "stderr",
          "text": [
            "/usr/local/lib/python3.10/dist-packages/sklearn/linear_model/_sag.py:350: ConvergenceWarning: The max_iter was reached which means the coef_ did not converge\n",
            "  warnings.warn(\n"
          ]
        },
        {
          "output_type": "stream",
          "name": "stdout",
          "text": [
            "[CV 4/5] END .....C=10, penalty=l1, solver=saga;, score=0.843 total time=   9.8s\n",
            "[CV 5/5] END .....C=10, penalty=l1, solver=saga;, score=0.788 total time=   7.5s\n",
            "[CV 1/5] END C=10, penalty=l2, solver=liblinear;, score=0.805 total time=   0.1s\n",
            "[CV 2/5] END C=10, penalty=l2, solver=liblinear;, score=0.829 total time=   0.1s\n",
            "[CV 3/5] END C=10, penalty=l2, solver=liblinear;, score=0.850 total time=   0.1s\n",
            "[CV 4/5] END C=10, penalty=l2, solver=liblinear;, score=0.836 total time=   0.1s\n",
            "[CV 5/5] END C=10, penalty=l2, solver=liblinear;, score=0.788 total time=   0.1s\n",
            "[CV 1/5] END .....C=10, penalty=l2, solver=saga;, score=0.805 total time=   2.6s\n",
            "[CV 2/5] END .....C=10, penalty=l2, solver=saga;, score=0.831 total time=   2.4s\n",
            "[CV 3/5] END .....C=10, penalty=l2, solver=saga;, score=0.850 total time=   2.4s\n",
            "[CV 4/5] END .....C=10, penalty=l2, solver=saga;, score=0.833 total time=   3.0s\n",
            "[CV 5/5] END .....C=10, penalty=l2, solver=saga;, score=0.788 total time=   1.6s\n",
            "[CV 1/5] END C=100, penalty=l1, solver=liblinear;, score=0.769 total time=   4.1s\n",
            "[CV 2/5] END C=100, penalty=l1, solver=liblinear;, score=0.810 total time=   5.1s\n",
            "[CV 3/5] END C=100, penalty=l1, solver=liblinear;, score=0.812 total time=   4.6s\n",
            "[CV 4/5] END C=100, penalty=l1, solver=liblinear;, score=0.821 total time=   4.4s\n",
            "[CV 5/5] END C=100, penalty=l1, solver=liblinear;, score=0.793 total time=   2.7s\n"
          ]
        },
        {
          "output_type": "stream",
          "name": "stderr",
          "text": [
            "/usr/local/lib/python3.10/dist-packages/sklearn/linear_model/_sag.py:350: ConvergenceWarning: The max_iter was reached which means the coef_ did not converge\n",
            "  warnings.warn(\n"
          ]
        },
        {
          "output_type": "stream",
          "name": "stdout",
          "text": [
            "[CV 1/5] END ....C=100, penalty=l1, solver=saga;, score=0.790 total time=  10.1s\n"
          ]
        },
        {
          "output_type": "stream",
          "name": "stderr",
          "text": [
            "/usr/local/lib/python3.10/dist-packages/sklearn/linear_model/_sag.py:350: ConvergenceWarning: The max_iter was reached which means the coef_ did not converge\n",
            "  warnings.warn(\n"
          ]
        },
        {
          "output_type": "stream",
          "name": "stdout",
          "text": [
            "[CV 2/5] END ....C=100, penalty=l1, solver=saga;, score=0.812 total time=  10.1s\n"
          ]
        },
        {
          "output_type": "stream",
          "name": "stderr",
          "text": [
            "/usr/local/lib/python3.10/dist-packages/sklearn/linear_model/_sag.py:350: ConvergenceWarning: The max_iter was reached which means the coef_ did not converge\n",
            "  warnings.warn(\n"
          ]
        },
        {
          "output_type": "stream",
          "name": "stdout",
          "text": [
            "[CV 3/5] END ....C=100, penalty=l1, solver=saga;, score=0.829 total time=   9.7s\n"
          ]
        },
        {
          "output_type": "stream",
          "name": "stderr",
          "text": [
            "/usr/local/lib/python3.10/dist-packages/sklearn/linear_model/_sag.py:350: ConvergenceWarning: The max_iter was reached which means the coef_ did not converge\n",
            "  warnings.warn(\n"
          ]
        },
        {
          "output_type": "stream",
          "name": "stdout",
          "text": [
            "[CV 4/5] END ....C=100, penalty=l1, solver=saga;, score=0.826 total time=  10.1s\n"
          ]
        },
        {
          "output_type": "stream",
          "name": "stderr",
          "text": [
            "/usr/local/lib/python3.10/dist-packages/sklearn/linear_model/_sag.py:350: ConvergenceWarning: The max_iter was reached which means the coef_ did not converge\n",
            "  warnings.warn(\n"
          ]
        },
        {
          "output_type": "stream",
          "name": "stdout",
          "text": [
            "[CV 5/5] END ....C=100, penalty=l1, solver=saga;, score=0.788 total time=  10.0s\n",
            "[CV 1/5] END C=100, penalty=l2, solver=liblinear;, score=0.793 total time=   0.2s\n",
            "[CV 2/5] END C=100, penalty=l2, solver=liblinear;, score=0.821 total time=   0.2s\n",
            "[CV 3/5] END C=100, penalty=l2, solver=liblinear;, score=0.836 total time=   0.2s\n",
            "[CV 4/5] END C=100, penalty=l2, solver=liblinear;, score=0.831 total time=   0.3s\n",
            "[CV 5/5] END C=100, penalty=l2, solver=liblinear;, score=0.793 total time=   0.2s\n"
          ]
        },
        {
          "output_type": "stream",
          "name": "stderr",
          "text": [
            "/usr/local/lib/python3.10/dist-packages/sklearn/linear_model/_sag.py:350: ConvergenceWarning: The max_iter was reached which means the coef_ did not converge\n",
            "  warnings.warn(\n"
          ]
        },
        {
          "output_type": "stream",
          "name": "stdout",
          "text": [
            "[CV 1/5] END ....C=100, penalty=l2, solver=saga;, score=0.800 total time=   8.2s\n"
          ]
        },
        {
          "output_type": "stream",
          "name": "stderr",
          "text": [
            "/usr/local/lib/python3.10/dist-packages/sklearn/linear_model/_sag.py:350: ConvergenceWarning: The max_iter was reached which means the coef_ did not converge\n",
            "  warnings.warn(\n"
          ]
        },
        {
          "output_type": "stream",
          "name": "stdout",
          "text": [
            "[CV 2/5] END ....C=100, penalty=l2, solver=saga;, score=0.824 total time=   7.2s\n"
          ]
        },
        {
          "output_type": "stream",
          "name": "stderr",
          "text": [
            "/usr/local/lib/python3.10/dist-packages/sklearn/linear_model/_sag.py:350: ConvergenceWarning: The max_iter was reached which means the coef_ did not converge\n",
            "  warnings.warn(\n"
          ]
        },
        {
          "output_type": "stream",
          "name": "stdout",
          "text": [
            "[CV 3/5] END ....C=100, penalty=l2, solver=saga;, score=0.838 total time=   8.1s\n"
          ]
        },
        {
          "output_type": "stream",
          "name": "stderr",
          "text": [
            "/usr/local/lib/python3.10/dist-packages/sklearn/linear_model/_sag.py:350: ConvergenceWarning: The max_iter was reached which means the coef_ did not converge\n",
            "  warnings.warn(\n"
          ]
        },
        {
          "output_type": "stream",
          "name": "stdout",
          "text": [
            "[CV 4/5] END ....C=100, penalty=l2, solver=saga;, score=0.836 total time=   8.2s\n",
            "[CV 5/5] END ....C=100, penalty=l2, solver=saga;, score=0.793 total time=   4.6s\n",
            "Best parameters found:  {'C': 10, 'penalty': 'l2', 'solver': 'liblinear'}\n",
            "Best score found:  0.8214285714285715\n"
          ]
        }
      ]
    },
    {
      "cell_type": "code",
      "source": [
        "y_pred = grid.predict(valEmb)\n",
        "print('LR (with Grid Search): Val-accuracy: %.2f%%' % (100*accuracy_score(y_val, y_pred)))\n"
      ],
      "metadata": {
        "colab": {
          "base_uri": "https://localhost:8080/"
        },
        "id": "G3VZidjWKH5v",
        "outputId": "79294e6c-42ec-4068-bec2-af95d9a93ea5"
      },
      "execution_count": 44,
      "outputs": [
        {
          "output_type": "stream",
          "name": "stdout",
          "text": [
            "LR (with Grid Search): Val-accuracy: 84.00%\n"
          ]
        }
      ]
    },
    {
      "cell_type": "code",
      "source": [
        "from sklearn.metrics import confusion_matrix\n",
        "print('Test-accuracy con el mejor modelo Tf-idf %.2f%%' % (100*grid.score(testEmb, y_test)))\n",
        "\n",
        "pred = grid.predict(testEmb)\n",
        "print('\\nMatriz de confusión con el mejor modelo Tf-idf:')\n",
        "print(confusion_matrix(y_test, pred, labels=[0,1]))\n",
        "\n",
        "print('\\nMatriz de confusión con el mejor modelo de Tf-idf en proporciones:')\n",
        "print(confusion_matrix(y_test, pred, labels=[0,1]) / pred.shape[0])"
      ],
      "metadata": {
        "colab": {
          "base_uri": "https://localhost:8080/"
        },
        "id": "OjB-ZbUwKOau",
        "outputId": "2eb92df8-c3d5-495e-db3a-2c83e82ecc9e"
      },
      "execution_count": 45,
      "outputs": [
        {
          "output_type": "stream",
          "name": "stdout",
          "text": [
            "Test-accuracy con el mejor modelo Tf-idf 82.22%\n",
            "\n",
            "Matriz de confusión con el mejor modelo Tf-idf:\n",
            "[[178  38]\n",
            " [ 42 192]]\n",
            "\n",
            "Matriz de confusión con el mejor modelo de Tf-idf en proporciones:\n",
            "[[0.39555556 0.08444444]\n",
            " [0.09333333 0.42666667]]\n"
          ]
        }
      ]
    },
    {
      "cell_type": "code",
      "source": [
        "!pip install lightgbm"
      ],
      "metadata": {
        "colab": {
          "base_uri": "https://localhost:8080/"
        },
        "id": "IZWUL6ZfCO6i",
        "outputId": "331bb01e-0eb9-4aa8-8ef5-c40ae46cb1f1"
      },
      "execution_count": 38,
      "outputs": [
        {
          "output_type": "stream",
          "name": "stdout",
          "text": [
            "Looking in indexes: https://pypi.org/simple, https://us-python.pkg.dev/colab-wheels/public/simple/\n",
            "Requirement already satisfied: lightgbm in /usr/local/lib/python3.10/dist-packages (3.3.5)\n",
            "Requirement already satisfied: wheel in /usr/local/lib/python3.10/dist-packages (from lightgbm) (0.40.0)\n",
            "Requirement already satisfied: numpy in /usr/local/lib/python3.10/dist-packages (from lightgbm) (1.22.4)\n",
            "Requirement already satisfied: scipy in /usr/local/lib/python3.10/dist-packages (from lightgbm) (1.10.1)\n",
            "Requirement already satisfied: scikit-learn!=0.22.0 in /usr/local/lib/python3.10/dist-packages (from lightgbm) (1.2.2)\n",
            "Requirement already satisfied: joblib>=1.1.1 in /usr/local/lib/python3.10/dist-packages (from scikit-learn!=0.22.0->lightgbm) (1.2.0)\n",
            "Requirement already satisfied: threadpoolctl>=2.0.0 in /usr/local/lib/python3.10/dist-packages (from scikit-learn!=0.22.0->lightgbm) (3.1.0)\n"
          ]
        }
      ]
    },
    {
      "cell_type": "code",
      "source": [
        "from lightgbm import LGBMClassifier\n",
        "\n",
        "modeloLGBM = LGBMClassifier()\n",
        "modeloLGBM.fit(trainEmb, y_train)\n",
        "print('LGBM: Train-accuracy: %.2f%%' % (100*modeloLGBM.score(trainEmb, y_train)))\n",
        "print('LGBM: Val-accuracy: %.2f%%' % (100*modeloLGBM.score(valEmb, y_val)))\n"
      ],
      "metadata": {
        "colab": {
          "base_uri": "https://localhost:8080/"
        },
        "id": "9TUsQUpECt6k",
        "outputId": "eccfef44-c840-41b3-9cd7-6534dab78379"
      },
      "execution_count": 39,
      "outputs": [
        {
          "output_type": "stream",
          "name": "stdout",
          "text": [
            "LGBM: Train-accuracy: 99.62%\n",
            "LGBM: Val-accuracy: 80.67%\n"
          ]
        }
      ]
    },
    {
      "cell_type": "code",
      "source": [
        "from sklearn.model_selection import GridSearchCV\n",
        "\n",
        "param_grid = {\n",
        "    'n_estimators': [100, 200, 300],\n",
        "    'learning_rate': [0.01, 0.1, 1],\n",
        "    'max_depth': [5, 10, 15]\n",
        "}\n",
        "\n",
        "grid = GridSearchCV(LGBMClassifier(), param_grid, cv=5, verbose=10)\n",
        "grid.fit(trainEmb, y_train)\n",
        "\n",
        "print(\"Best parameters found: \", grid.best_params_)\n",
        "print(\"Best score found: \", grid.best_score_)"
      ],
      "metadata": {
        "colab": {
          "base_uri": "https://localhost:8080/"
        },
        "id": "0cyRES9EC2SJ",
        "outputId": "0d52abe5-462e-45d8-d92f-dada211859d1"
      },
      "execution_count": 41,
      "outputs": [
        {
          "output_type": "stream",
          "name": "stdout",
          "text": [
            "Fitting 5 folds for each of 27 candidates, totalling 135 fits\n",
            "[CV 1/5; 1/27] START learning_rate=0.01, max_depth=5, n_estimators=100..........\n",
            "[CV 1/5; 1/27] END learning_rate=0.01, max_depth=5, n_estimators=100;, score=0.740 total time=   4.6s\n",
            "[CV 2/5; 1/27] START learning_rate=0.01, max_depth=5, n_estimators=100..........\n",
            "[CV 2/5; 1/27] END learning_rate=0.01, max_depth=5, n_estimators=100;, score=0.738 total time=   2.1s\n",
            "[CV 3/5; 1/27] START learning_rate=0.01, max_depth=5, n_estimators=100..........\n",
            "[CV 3/5; 1/27] END learning_rate=0.01, max_depth=5, n_estimators=100;, score=0.774 total time=   5.7s\n",
            "[CV 4/5; 1/27] START learning_rate=0.01, max_depth=5, n_estimators=100..........\n",
            "[CV 4/5; 1/27] END learning_rate=0.01, max_depth=5, n_estimators=100;, score=0.795 total time=   2.2s\n",
            "[CV 5/5; 1/27] START learning_rate=0.01, max_depth=5, n_estimators=100..........\n",
            "[CV 5/5; 1/27] END learning_rate=0.01, max_depth=5, n_estimators=100;, score=0.762 total time=   2.1s\n",
            "[CV 1/5; 2/27] START learning_rate=0.01, max_depth=5, n_estimators=200..........\n",
            "[CV 1/5; 2/27] END learning_rate=0.01, max_depth=5, n_estimators=200;, score=0.736 total time=   4.1s\n",
            "[CV 2/5; 2/27] START learning_rate=0.01, max_depth=5, n_estimators=200..........\n",
            "[CV 2/5; 2/27] END learning_rate=0.01, max_depth=5, n_estimators=200;, score=0.779 total time=   7.1s\n",
            "[CV 3/5; 2/27] START learning_rate=0.01, max_depth=5, n_estimators=200..........\n",
            "[CV 3/5; 2/27] END learning_rate=0.01, max_depth=5, n_estimators=200;, score=0.793 total time=   4.1s\n",
            "[CV 4/5; 2/27] START learning_rate=0.01, max_depth=5, n_estimators=200..........\n",
            "[CV 4/5; 2/27] END learning_rate=0.01, max_depth=5, n_estimators=200;, score=0.805 total time=   6.1s\n",
            "[CV 5/5; 2/27] START learning_rate=0.01, max_depth=5, n_estimators=200..........\n",
            "[CV 5/5; 2/27] END learning_rate=0.01, max_depth=5, n_estimators=200;, score=0.779 total time=   4.1s\n",
            "[CV 1/5; 3/27] START learning_rate=0.01, max_depth=5, n_estimators=300..........\n",
            "[CV 1/5; 3/27] END learning_rate=0.01, max_depth=5, n_estimators=300;, score=0.762 total time=   8.0s\n",
            "[CV 2/5; 3/27] START learning_rate=0.01, max_depth=5, n_estimators=300..........\n",
            "[CV 2/5; 3/27] END learning_rate=0.01, max_depth=5, n_estimators=300;, score=0.788 total time=  19.7s\n",
            "[CV 3/5; 3/27] START learning_rate=0.01, max_depth=5, n_estimators=300..........\n",
            "[CV 3/5; 3/27] END learning_rate=0.01, max_depth=5, n_estimators=300;, score=0.802 total time=   9.5s\n",
            "[CV 4/5; 3/27] START learning_rate=0.01, max_depth=5, n_estimators=300..........\n",
            "[CV 4/5; 3/27] END learning_rate=0.01, max_depth=5, n_estimators=300;, score=0.838 total time=   8.1s\n",
            "[CV 5/5; 3/27] START learning_rate=0.01, max_depth=5, n_estimators=300..........\n",
            "[CV 5/5; 3/27] END learning_rate=0.01, max_depth=5, n_estimators=300;, score=0.783 total time=   6.0s\n",
            "[CV 1/5; 4/27] START learning_rate=0.01, max_depth=10, n_estimators=100.........\n",
            "[CV 1/5; 4/27] END learning_rate=0.01, max_depth=10, n_estimators=100;, score=0.740 total time=   5.3s\n",
            "[CV 2/5; 4/27] START learning_rate=0.01, max_depth=10, n_estimators=100.........\n",
            "[CV 2/5; 4/27] END learning_rate=0.01, max_depth=10, n_estimators=100;, score=0.733 total time=   4.1s\n",
            "[CV 3/5; 4/27] START learning_rate=0.01, max_depth=10, n_estimators=100.........\n",
            "[CV 3/5; 4/27] END learning_rate=0.01, max_depth=10, n_estimators=100;, score=0.769 total time=   3.4s\n",
            "[CV 4/5; 4/27] START learning_rate=0.01, max_depth=10, n_estimators=100.........\n",
            "[CV 4/5; 4/27] END learning_rate=0.01, max_depth=10, n_estimators=100;, score=0.783 total time=   5.2s\n",
            "[CV 5/5; 4/27] START learning_rate=0.01, max_depth=10, n_estimators=100.........\n",
            "[CV 5/5; 4/27] END learning_rate=0.01, max_depth=10, n_estimators=100;, score=0.750 total time=   3.7s\n",
            "[CV 1/5; 5/27] START learning_rate=0.01, max_depth=10, n_estimators=200.........\n",
            "[CV 1/5; 5/27] END learning_rate=0.01, max_depth=10, n_estimators=200;, score=0.757 total time=   8.6s\n",
            "[CV 2/5; 5/27] START learning_rate=0.01, max_depth=10, n_estimators=200.........\n",
            "[CV 2/5; 5/27] END learning_rate=0.01, max_depth=10, n_estimators=200;, score=0.764 total time=   6.4s\n",
            "[CV 3/5; 5/27] START learning_rate=0.01, max_depth=10, n_estimators=200.........\n",
            "[CV 3/5; 5/27] END learning_rate=0.01, max_depth=10, n_estimators=200;, score=0.798 total time=   8.5s\n",
            "[CV 4/5; 5/27] START learning_rate=0.01, max_depth=10, n_estimators=200.........\n",
            "[CV 4/5; 5/27] END learning_rate=0.01, max_depth=10, n_estimators=200;, score=0.821 total time=   8.4s\n",
            "[CV 5/5; 5/27] START learning_rate=0.01, max_depth=10, n_estimators=200.........\n",
            "[CV 5/5; 5/27] END learning_rate=0.01, max_depth=10, n_estimators=200;, score=0.774 total time=   6.4s\n",
            "[CV 1/5; 6/27] START learning_rate=0.01, max_depth=10, n_estimators=300.........\n",
            "[CV 1/5; 6/27] END learning_rate=0.01, max_depth=10, n_estimators=300;, score=0.760 total time=  11.7s\n",
            "[CV 2/5; 6/27] START learning_rate=0.01, max_depth=10, n_estimators=300.........\n",
            "[CV 2/5; 6/27] END learning_rate=0.01, max_depth=10, n_estimators=300;, score=0.774 total time=  11.6s\n",
            "[CV 3/5; 6/27] START learning_rate=0.01, max_depth=10, n_estimators=300.........\n",
            "[CV 3/5; 6/27] END learning_rate=0.01, max_depth=10, n_estimators=300;, score=0.824 total time=  11.7s\n",
            "[CV 4/5; 6/27] START learning_rate=0.01, max_depth=10, n_estimators=300.........\n",
            "[CV 4/5; 6/27] END learning_rate=0.01, max_depth=10, n_estimators=300;, score=0.845 total time=  11.7s\n",
            "[CV 5/5; 6/27] START learning_rate=0.01, max_depth=10, n_estimators=300.........\n",
            "[CV 5/5; 6/27] END learning_rate=0.01, max_depth=10, n_estimators=300;, score=0.781 total time=  11.6s\n",
            "[CV 1/5; 7/27] START learning_rate=0.01, max_depth=15, n_estimators=100.........\n",
            "[CV 1/5; 7/27] END learning_rate=0.01, max_depth=15, n_estimators=100;, score=0.740 total time=   3.2s\n",
            "[CV 2/5; 7/27] START learning_rate=0.01, max_depth=15, n_estimators=100.........\n",
            "[CV 2/5; 7/27] END learning_rate=0.01, max_depth=15, n_estimators=100;, score=0.733 total time=   5.2s\n",
            "[CV 3/5; 7/27] START learning_rate=0.01, max_depth=15, n_estimators=100.........\n",
            "[CV 3/5; 7/27] END learning_rate=0.01, max_depth=15, n_estimators=100;, score=0.769 total time=   3.3s\n",
            "[CV 4/5; 7/27] START learning_rate=0.01, max_depth=15, n_estimators=100.........\n",
            "[CV 4/5; 7/27] END learning_rate=0.01, max_depth=15, n_estimators=100;, score=0.779 total time=   3.2s\n",
            "[CV 5/5; 7/27] START learning_rate=0.01, max_depth=15, n_estimators=100.........\n",
            "[CV 5/5; 7/27] END learning_rate=0.01, max_depth=15, n_estimators=100;, score=0.750 total time=   5.2s\n",
            "[CV 1/5; 8/27] START learning_rate=0.01, max_depth=15, n_estimators=200.........\n",
            "[CV 1/5; 8/27] END learning_rate=0.01, max_depth=15, n_estimators=200;, score=0.757 total time=   6.5s\n",
            "[CV 2/5; 8/27] START learning_rate=0.01, max_depth=15, n_estimators=200.........\n",
            "[CV 2/5; 8/27] END learning_rate=0.01, max_depth=15, n_estimators=200;, score=0.764 total time=   8.4s\n",
            "[CV 3/5; 8/27] START learning_rate=0.01, max_depth=15, n_estimators=200.........\n",
            "[CV 3/5; 8/27] END learning_rate=0.01, max_depth=15, n_estimators=200;, score=0.798 total time=   6.5s\n",
            "[CV 4/5; 8/27] START learning_rate=0.01, max_depth=15, n_estimators=200.........\n",
            "[CV 4/5; 8/27] END learning_rate=0.01, max_depth=15, n_estimators=200;, score=0.819 total time=   8.4s\n",
            "[CV 5/5; 8/27] START learning_rate=0.01, max_depth=15, n_estimators=200.........\n",
            "[CV 5/5; 8/27] END learning_rate=0.01, max_depth=15, n_estimators=200;, score=0.769 total time=   8.4s\n",
            "[CV 1/5; 9/27] START learning_rate=0.01, max_depth=15, n_estimators=300.........\n",
            "[CV 1/5; 9/27] END learning_rate=0.01, max_depth=15, n_estimators=300;, score=0.762 total time=  11.7s\n",
            "[CV 2/5; 9/27] START learning_rate=0.01, max_depth=15, n_estimators=300.........\n",
            "[CV 2/5; 9/27] END learning_rate=0.01, max_depth=15, n_estimators=300;, score=0.774 total time=  11.6s\n",
            "[CV 3/5; 9/27] START learning_rate=0.01, max_depth=15, n_estimators=300.........\n",
            "[CV 3/5; 9/27] END learning_rate=0.01, max_depth=15, n_estimators=300;, score=0.812 total time=  11.7s\n",
            "[CV 4/5; 9/27] START learning_rate=0.01, max_depth=15, n_estimators=300.........\n",
            "[CV 4/5; 9/27] END learning_rate=0.01, max_depth=15, n_estimators=300;, score=0.843 total time=  11.7s\n",
            "[CV 5/5; 9/27] START learning_rate=0.01, max_depth=15, n_estimators=300.........\n",
            "[CV 5/5; 9/27] END learning_rate=0.01, max_depth=15, n_estimators=300;, score=0.779 total time=   9.9s\n",
            "[CV 1/5; 10/27] START learning_rate=0.1, max_depth=5, n_estimators=100..........\n",
            "[CV 1/5; 10/27] END learning_rate=0.1, max_depth=5, n_estimators=100;, score=0.776 total time=   3.6s\n",
            "[CV 2/5; 10/27] START learning_rate=0.1, max_depth=5, n_estimators=100..........\n",
            "[CV 2/5; 10/27] END learning_rate=0.1, max_depth=5, n_estimators=100;, score=0.783 total time=   1.9s\n",
            "[CV 3/5; 10/27] START learning_rate=0.1, max_depth=5, n_estimators=100..........\n",
            "[CV 3/5; 10/27] END learning_rate=0.1, max_depth=5, n_estimators=100;, score=0.840 total time=   1.9s\n",
            "[CV 4/5; 10/27] START learning_rate=0.1, max_depth=5, n_estimators=100..........\n",
            "[CV 4/5; 10/27] END learning_rate=0.1, max_depth=5, n_estimators=100;, score=0.829 total time=   2.0s\n",
            "[CV 5/5; 10/27] START learning_rate=0.1, max_depth=5, n_estimators=100..........\n",
            "[CV 5/5; 10/27] END learning_rate=0.1, max_depth=5, n_estimators=100;, score=0.795 total time=   1.9s\n",
            "[CV 1/5; 11/27] START learning_rate=0.1, max_depth=5, n_estimators=200..........\n",
            "[CV 1/5; 11/27] END learning_rate=0.1, max_depth=5, n_estimators=200;, score=0.762 total time=   5.7s\n",
            "[CV 2/5; 11/27] START learning_rate=0.1, max_depth=5, n_estimators=200..........\n",
            "[CV 2/5; 11/27] END learning_rate=0.1, max_depth=5, n_estimators=200;, score=0.788 total time=   3.7s\n",
            "[CV 3/5; 11/27] START learning_rate=0.1, max_depth=5, n_estimators=200..........\n",
            "[CV 3/5; 11/27] END learning_rate=0.1, max_depth=5, n_estimators=200;, score=0.829 total time=   5.7s\n",
            "[CV 4/5; 11/27] START learning_rate=0.1, max_depth=5, n_estimators=200..........\n",
            "[CV 4/5; 11/27] END learning_rate=0.1, max_depth=5, n_estimators=200;, score=0.829 total time=   3.7s\n",
            "[CV 5/5; 11/27] START learning_rate=0.1, max_depth=5, n_estimators=200..........\n",
            "[CV 5/5; 11/27] END learning_rate=0.1, max_depth=5, n_estimators=200;, score=0.800 total time=   3.6s\n",
            "[CV 1/5; 12/27] START learning_rate=0.1, max_depth=5, n_estimators=300..........\n",
            "[CV 1/5; 12/27] END learning_rate=0.1, max_depth=5, n_estimators=300;, score=0.757 total time=   7.3s\n",
            "[CV 2/5; 12/27] START learning_rate=0.1, max_depth=5, n_estimators=300..........\n",
            "[CV 2/5; 12/27] END learning_rate=0.1, max_depth=5, n_estimators=300;, score=0.781 total time=   5.4s\n",
            "[CV 3/5; 12/27] START learning_rate=0.1, max_depth=5, n_estimators=300..........\n",
            "[CV 3/5; 12/27] END learning_rate=0.1, max_depth=5, n_estimators=300;, score=0.829 total time=   7.2s\n",
            "[CV 4/5; 12/27] START learning_rate=0.1, max_depth=5, n_estimators=300..........\n",
            "[CV 4/5; 12/27] END learning_rate=0.1, max_depth=5, n_estimators=300;, score=0.831 total time=   5.3s\n",
            "[CV 5/5; 12/27] START learning_rate=0.1, max_depth=5, n_estimators=300..........\n",
            "[CV 5/5; 12/27] END learning_rate=0.1, max_depth=5, n_estimators=300;, score=0.798 total time=   7.2s\n",
            "[CV 1/5; 13/27] START learning_rate=0.1, max_depth=10, n_estimators=100.........\n",
            "[CV 1/5; 13/27] END learning_rate=0.1, max_depth=10, n_estimators=100;, score=0.769 total time=   3.4s\n",
            "[CV 2/5; 13/27] START learning_rate=0.1, max_depth=10, n_estimators=100.........\n",
            "[CV 2/5; 13/27] END learning_rate=0.1, max_depth=10, n_estimators=100;, score=0.793 total time=   5.4s\n",
            "[CV 3/5; 13/27] START learning_rate=0.1, max_depth=10, n_estimators=100.........\n",
            "[CV 3/5; 13/27] END learning_rate=0.1, max_depth=10, n_estimators=100;, score=0.843 total time=   3.4s\n",
            "[CV 4/5; 13/27] START learning_rate=0.1, max_depth=10, n_estimators=100.........\n",
            "[CV 4/5; 13/27] END learning_rate=0.1, max_depth=10, n_estimators=100;, score=0.836 total time=   3.3s\n",
            "[CV 5/5; 13/27] START learning_rate=0.1, max_depth=10, n_estimators=100.........\n",
            "[CV 5/5; 13/27] END learning_rate=0.1, max_depth=10, n_estimators=100;, score=0.793 total time=   5.4s\n",
            "[CV 1/5; 14/27] START learning_rate=0.1, max_depth=10, n_estimators=200.........\n",
            "[CV 1/5; 14/27] END learning_rate=0.1, max_depth=10, n_estimators=200;, score=0.767 total time=   6.6s\n",
            "[CV 2/5; 14/27] START learning_rate=0.1, max_depth=10, n_estimators=200.........\n",
            "[CV 2/5; 14/27] END learning_rate=0.1, max_depth=10, n_estimators=200;, score=0.790 total time=   8.6s\n",
            "[CV 3/5; 14/27] START learning_rate=0.1, max_depth=10, n_estimators=200.........\n",
            "[CV 3/5; 14/27] END learning_rate=0.1, max_depth=10, n_estimators=200;, score=0.845 total time=   6.5s\n",
            "[CV 4/5; 14/27] START learning_rate=0.1, max_depth=10, n_estimators=200.........\n",
            "[CV 4/5; 14/27] END learning_rate=0.1, max_depth=10, n_estimators=200;, score=0.836 total time=   8.5s\n",
            "[CV 5/5; 14/27] START learning_rate=0.1, max_depth=10, n_estimators=200.........\n",
            "[CV 5/5; 14/27] END learning_rate=0.1, max_depth=10, n_estimators=200;, score=0.798 total time=   8.4s\n",
            "[CV 1/5; 15/27] START learning_rate=0.1, max_depth=10, n_estimators=300.........\n",
            "[CV 1/5; 15/27] END learning_rate=0.1, max_depth=10, n_estimators=300;, score=0.774 total time=  11.3s\n",
            "[CV 2/5; 15/27] START learning_rate=0.1, max_depth=10, n_estimators=300.........\n",
            "[CV 2/5; 15/27] END learning_rate=0.1, max_depth=10, n_estimators=300;, score=0.788 total time=  11.3s\n",
            "[CV 3/5; 15/27] START learning_rate=0.1, max_depth=10, n_estimators=300.........\n",
            "[CV 3/5; 15/27] END learning_rate=0.1, max_depth=10, n_estimators=300;, score=0.848 total time=  11.4s\n",
            "[CV 4/5; 15/27] START learning_rate=0.1, max_depth=10, n_estimators=300.........\n",
            "[CV 4/5; 15/27] END learning_rate=0.1, max_depth=10, n_estimators=300;, score=0.838 total time=   9.5s\n",
            "[CV 5/5; 15/27] START learning_rate=0.1, max_depth=10, n_estimators=300.........\n",
            "[CV 5/5; 15/27] END learning_rate=0.1, max_depth=10, n_estimators=300;, score=0.802 total time=  11.3s\n",
            "[CV 1/5; 16/27] START learning_rate=0.1, max_depth=15, n_estimators=100.........\n",
            "[CV 1/5; 16/27] END learning_rate=0.1, max_depth=15, n_estimators=100;, score=0.764 total time=   5.4s\n",
            "[CV 2/5; 16/27] START learning_rate=0.1, max_depth=15, n_estimators=100.........\n",
            "[CV 2/5; 16/27] END learning_rate=0.1, max_depth=15, n_estimators=100;, score=0.800 total time=   3.4s\n",
            "[CV 3/5; 16/27] START learning_rate=0.1, max_depth=15, n_estimators=100.........\n",
            "[CV 3/5; 16/27] END learning_rate=0.1, max_depth=15, n_estimators=100;, score=0.838 total time=   3.5s\n",
            "[CV 4/5; 16/27] START learning_rate=0.1, max_depth=15, n_estimators=100.........\n",
            "[CV 4/5; 16/27] END learning_rate=0.1, max_depth=15, n_estimators=100;, score=0.826 total time=   5.4s\n",
            "[CV 5/5; 16/27] START learning_rate=0.1, max_depth=15, n_estimators=100.........\n",
            "[CV 5/5; 16/27] END learning_rate=0.1, max_depth=15, n_estimators=100;, score=0.783 total time=   3.4s\n",
            "[CV 1/5; 17/27] START learning_rate=0.1, max_depth=15, n_estimators=200.........\n",
            "[CV 1/5; 17/27] END learning_rate=0.1, max_depth=15, n_estimators=200;, score=0.771 total time=   8.7s\n",
            "[CV 2/5; 17/27] START learning_rate=0.1, max_depth=15, n_estimators=200.........\n",
            "[CV 2/5; 17/27] END learning_rate=0.1, max_depth=15, n_estimators=200;, score=0.774 total time=   6.7s\n",
            "[CV 3/5; 17/27] START learning_rate=0.1, max_depth=15, n_estimators=200.........\n",
            "[CV 3/5; 17/27] END learning_rate=0.1, max_depth=15, n_estimators=200;, score=0.845 total time=   8.7s\n",
            "[CV 4/5; 17/27] START learning_rate=0.1, max_depth=15, n_estimators=200.........\n",
            "[CV 4/5; 17/27] END learning_rate=0.1, max_depth=15, n_estimators=200;, score=0.838 total time=   8.6s\n",
            "[CV 5/5; 17/27] START learning_rate=0.1, max_depth=15, n_estimators=200.........\n",
            "[CV 5/5; 17/27] END learning_rate=0.1, max_depth=15, n_estimators=200;, score=0.795 total time=   6.8s\n",
            "[CV 1/5; 18/27] START learning_rate=0.1, max_depth=15, n_estimators=300.........\n",
            "[CV 1/5; 18/27] END learning_rate=0.1, max_depth=15, n_estimators=300;, score=0.764 total time=  11.6s\n",
            "[CV 2/5; 18/27] START learning_rate=0.1, max_depth=15, n_estimators=300.........\n",
            "[CV 2/5; 18/27] END learning_rate=0.1, max_depth=15, n_estimators=300;, score=0.786 total time=  11.6s\n",
            "[CV 3/5; 18/27] START learning_rate=0.1, max_depth=15, n_estimators=300.........\n",
            "[CV 3/5; 18/27] END learning_rate=0.1, max_depth=15, n_estimators=300;, score=0.843 total time=  11.6s\n",
            "[CV 4/5; 18/27] START learning_rate=0.1, max_depth=15, n_estimators=300.........\n",
            "[CV 4/5; 18/27] END learning_rate=0.1, max_depth=15, n_estimators=300;, score=0.833 total time=  11.6s\n",
            "[CV 5/5; 18/27] START learning_rate=0.1, max_depth=15, n_estimators=300.........\n",
            "[CV 5/5; 18/27] END learning_rate=0.1, max_depth=15, n_estimators=300;, score=0.805 total time=  11.6s\n",
            "[CV 1/5; 19/27] START learning_rate=1, max_depth=5, n_estimators=100............\n",
            "[CV 1/5; 19/27] END learning_rate=1, max_depth=5, n_estimators=100;, score=0.779 total time=   1.1s\n",
            "[CV 2/5; 19/27] START learning_rate=1, max_depth=5, n_estimators=100............\n",
            "[CV 2/5; 19/27] END learning_rate=1, max_depth=5, n_estimators=100;, score=0.776 total time=   1.1s\n",
            "[CV 3/5; 19/27] START learning_rate=1, max_depth=5, n_estimators=100............\n",
            "[CV 3/5; 19/27] END learning_rate=1, max_depth=5, n_estimators=100;, score=0.819 total time=   1.2s\n",
            "[CV 4/5; 19/27] START learning_rate=1, max_depth=5, n_estimators=100............\n",
            "[CV 4/5; 19/27] END learning_rate=1, max_depth=5, n_estimators=100;, score=0.781 total time=   3.1s\n",
            "[CV 5/5; 19/27] START learning_rate=1, max_depth=5, n_estimators=100............\n",
            "[CV 5/5; 19/27] END learning_rate=1, max_depth=5, n_estimators=100;, score=0.802 total time=   1.2s\n",
            "[CV 1/5; 20/27] START learning_rate=1, max_depth=5, n_estimators=200............\n",
            "[CV 1/5; 20/27] END learning_rate=1, max_depth=5, n_estimators=200;, score=0.774 total time=   1.4s\n",
            "[CV 2/5; 20/27] START learning_rate=1, max_depth=5, n_estimators=200............\n",
            "[CV 2/5; 20/27] END learning_rate=1, max_depth=5, n_estimators=200;, score=0.781 total time=   1.4s\n",
            "[CV 3/5; 20/27] START learning_rate=1, max_depth=5, n_estimators=200............\n",
            "[CV 3/5; 20/27] END learning_rate=1, max_depth=5, n_estimators=200;, score=0.817 total time=   1.5s\n",
            "[CV 4/5; 20/27] START learning_rate=1, max_depth=5, n_estimators=200............\n",
            "[CV 4/5; 20/27] END learning_rate=1, max_depth=5, n_estimators=200;, score=0.786 total time=   1.6s\n",
            "[CV 5/5; 20/27] START learning_rate=1, max_depth=5, n_estimators=200............\n",
            "[CV 5/5; 20/27] END learning_rate=1, max_depth=5, n_estimators=200;, score=0.798 total time=   1.5s\n",
            "[CV 1/5; 21/27] START learning_rate=1, max_depth=5, n_estimators=300............\n",
            "[CV 1/5; 21/27] END learning_rate=1, max_depth=5, n_estimators=300;, score=0.769 total time=   3.6s\n",
            "[CV 2/5; 21/27] START learning_rate=1, max_depth=5, n_estimators=300............\n",
            "[CV 2/5; 21/27] END learning_rate=1, max_depth=5, n_estimators=300;, score=0.781 total time=   1.6s\n",
            "[CV 3/5; 21/27] START learning_rate=1, max_depth=5, n_estimators=300............\n",
            "[CV 3/5; 21/27] END learning_rate=1, max_depth=5, n_estimators=300;, score=0.821 total time=   1.9s\n",
            "[CV 4/5; 21/27] START learning_rate=1, max_depth=5, n_estimators=300............\n",
            "[CV 4/5; 21/27] END learning_rate=1, max_depth=5, n_estimators=300;, score=0.793 total time=   1.9s\n",
            "[CV 5/5; 21/27] START learning_rate=1, max_depth=5, n_estimators=300............\n",
            "[CV 5/5; 21/27] END learning_rate=1, max_depth=5, n_estimators=300;, score=0.800 total time=   1.9s\n",
            "[CV 1/5; 22/27] START learning_rate=1, max_depth=10, n_estimators=100...........\n",
            "[CV 1/5; 22/27] END learning_rate=1, max_depth=10, n_estimators=100;, score=0.779 total time=   1.4s\n",
            "[CV 2/5; 22/27] START learning_rate=1, max_depth=10, n_estimators=100...........\n",
            "[CV 2/5; 22/27] END learning_rate=1, max_depth=10, n_estimators=100;, score=0.779 total time=   3.3s\n",
            "[CV 3/5; 22/27] START learning_rate=1, max_depth=10, n_estimators=100...........\n",
            "[CV 3/5; 22/27] END learning_rate=1, max_depth=10, n_estimators=100;, score=0.821 total time=   1.5s\n",
            "[CV 4/5; 22/27] START learning_rate=1, max_depth=10, n_estimators=100...........\n",
            "[CV 4/5; 22/27] END learning_rate=1, max_depth=10, n_estimators=100;, score=0.786 total time=   1.4s\n",
            "[CV 5/5; 22/27] START learning_rate=1, max_depth=10, n_estimators=100...........\n",
            "[CV 5/5; 22/27] END learning_rate=1, max_depth=10, n_estimators=100;, score=0.771 total time=   1.4s\n",
            "[CV 1/5; 23/27] START learning_rate=1, max_depth=10, n_estimators=200...........\n",
            "[CV 1/5; 23/27] END learning_rate=1, max_depth=10, n_estimators=200;, score=0.767 total time=   1.7s\n",
            "[CV 2/5; 23/27] START learning_rate=1, max_depth=10, n_estimators=200...........\n",
            "[CV 2/5; 23/27] END learning_rate=1, max_depth=10, n_estimators=200;, score=0.779 total time=   1.6s\n",
            "[CV 3/5; 23/27] START learning_rate=1, max_depth=10, n_estimators=200...........\n",
            "[CV 3/5; 23/27] END learning_rate=1, max_depth=10, n_estimators=200;, score=0.824 total time=   1.8s\n",
            "[CV 4/5; 23/27] START learning_rate=1, max_depth=10, n_estimators=200...........\n",
            "[CV 4/5; 23/27] END learning_rate=1, max_depth=10, n_estimators=200;, score=0.788 total time=   3.7s\n",
            "[CV 5/5; 23/27] START learning_rate=1, max_depth=10, n_estimators=200...........\n",
            "[CV 5/5; 23/27] END learning_rate=1, max_depth=10, n_estimators=200;, score=0.776 total time=   1.8s\n",
            "[CV 1/5; 24/27] START learning_rate=1, max_depth=10, n_estimators=300...........\n",
            "[CV 1/5; 24/27] END learning_rate=1, max_depth=10, n_estimators=300;, score=0.767 total time=   1.9s\n",
            "[CV 2/5; 24/27] START learning_rate=1, max_depth=10, n_estimators=300...........\n",
            "[CV 2/5; 24/27] END learning_rate=1, max_depth=10, n_estimators=300;, score=0.776 total time=   1.8s\n",
            "[CV 3/5; 24/27] START learning_rate=1, max_depth=10, n_estimators=300...........\n",
            "[CV 3/5; 24/27] END learning_rate=1, max_depth=10, n_estimators=300;, score=0.821 total time=   2.2s\n",
            "[CV 4/5; 24/27] START learning_rate=1, max_depth=10, n_estimators=300...........\n",
            "[CV 4/5; 24/27] END learning_rate=1, max_depth=10, n_estimators=300;, score=0.788 total time=   4.0s\n",
            "[CV 5/5; 24/27] START learning_rate=1, max_depth=10, n_estimators=300...........\n",
            "[CV 5/5; 24/27] END learning_rate=1, max_depth=10, n_estimators=300;, score=0.769 total time=   2.1s\n",
            "[CV 1/5; 25/27] START learning_rate=1, max_depth=15, n_estimators=100...........\n",
            "[CV 1/5; 25/27] END learning_rate=1, max_depth=15, n_estimators=100;, score=0.767 total time=   1.4s\n",
            "[CV 2/5; 25/27] START learning_rate=1, max_depth=15, n_estimators=100...........\n",
            "[CV 2/5; 25/27] END learning_rate=1, max_depth=15, n_estimators=100;, score=0.783 total time=   1.4s\n",
            "[CV 3/5; 25/27] START learning_rate=1, max_depth=15, n_estimators=100...........\n",
            "[CV 3/5; 25/27] END learning_rate=1, max_depth=15, n_estimators=100;, score=0.810 total time=   1.5s\n",
            "[CV 4/5; 25/27] START learning_rate=1, max_depth=15, n_estimators=100...........\n",
            "[CV 4/5; 25/27] END learning_rate=1, max_depth=15, n_estimators=100;, score=0.793 total time=   1.5s\n",
            "[CV 5/5; 25/27] START learning_rate=1, max_depth=15, n_estimators=100...........\n",
            "[CV 5/5; 25/27] END learning_rate=1, max_depth=15, n_estimators=100;, score=0.774 total time=   3.4s\n",
            "[CV 1/5; 26/27] START learning_rate=1, max_depth=15, n_estimators=200...........\n",
            "[CV 1/5; 26/27] END learning_rate=1, max_depth=15, n_estimators=200;, score=0.762 total time=   1.6s\n",
            "[CV 2/5; 26/27] START learning_rate=1, max_depth=15, n_estimators=200...........\n",
            "[CV 2/5; 26/27] END learning_rate=1, max_depth=15, n_estimators=200;, score=0.790 total time=   1.6s\n",
            "[CV 3/5; 26/27] START learning_rate=1, max_depth=15, n_estimators=200...........\n",
            "[CV 3/5; 26/27] END learning_rate=1, max_depth=15, n_estimators=200;, score=0.817 total time=   1.9s\n",
            "[CV 4/5; 26/27] START learning_rate=1, max_depth=15, n_estimators=200...........\n",
            "[CV 4/5; 26/27] END learning_rate=1, max_depth=15, n_estimators=200;, score=0.793 total time=   1.8s\n",
            "[CV 5/5; 26/27] START learning_rate=1, max_depth=15, n_estimators=200...........\n",
            "[CV 5/5; 26/27] END learning_rate=1, max_depth=15, n_estimators=200;, score=0.774 total time=   1.8s\n",
            "[CV 1/5; 27/27] START learning_rate=1, max_depth=15, n_estimators=300...........\n",
            "[CV 1/5; 27/27] END learning_rate=1, max_depth=15, n_estimators=300;, score=0.774 total time=   3.8s\n",
            "[CV 2/5; 27/27] START learning_rate=1, max_depth=15, n_estimators=300...........\n",
            "[CV 2/5; 27/27] END learning_rate=1, max_depth=15, n_estimators=300;, score=0.786 total time=   1.9s\n",
            "[CV 3/5; 27/27] START learning_rate=1, max_depth=15, n_estimators=300...........\n",
            "[CV 3/5; 27/27] END learning_rate=1, max_depth=15, n_estimators=300;, score=0.821 total time=   2.2s\n",
            "[CV 4/5; 27/27] START learning_rate=1, max_depth=15, n_estimators=300...........\n",
            "[CV 4/5; 27/27] END learning_rate=1, max_depth=15, n_estimators=300;, score=0.798 total time=   2.2s\n",
            "[CV 5/5; 27/27] START learning_rate=1, max_depth=15, n_estimators=300...........\n",
            "[CV 5/5; 27/27] END learning_rate=1, max_depth=15, n_estimators=300;, score=0.774 total time=   2.2s\n",
            "Best parameters found:  {'learning_rate': 0.1, 'max_depth': 10, 'n_estimators': 300}\n",
            "Best score found:  0.8099999999999999\n"
          ]
        }
      ]
    },
    {
      "cell_type": "code",
      "source": [
        "from sklearn.metrics import accuracy_score\n",
        "\n",
        "y_pred = grid.predict(valEmb)\n",
        "print('LGBM (with Grid Search): Val-accuracy: %.2f%%' % (100*accuracy_score(y_val, y_pred)))\n"
      ],
      "metadata": {
        "colab": {
          "base_uri": "https://localhost:8080/"
        },
        "id": "YiO6ksp8D2Er",
        "outputId": "45a2023e-8306-45c7-f180-902a7e6a3e54"
      },
      "execution_count": 42,
      "outputs": [
        {
          "output_type": "stream",
          "name": "stdout",
          "text": [
            "LGBM (with Grid Search): Val-accuracy: 80.89%\n"
          ]
        }
      ]
    }
  ]
}