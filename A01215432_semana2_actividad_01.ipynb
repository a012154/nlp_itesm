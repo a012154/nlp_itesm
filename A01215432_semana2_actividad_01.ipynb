{
  "nbformat": 4,
  "nbformat_minor": 0,
  "metadata": {
    "colab": {
      "provenance": []
    },
    "kernelspec": {
      "name": "python3",
      "display_name": "Python 3"
    },
    "language_info": {
      "name": "python"
    }
  },
  "cells": [
    {
      "cell_type": "markdown",
      "source": [
        "#**Maestría en Inteligencia Artificial Aplicada**\n",
        "##**Curso: Procesamiento de Lenguaje Natural (NLP)**\n",
        "###Tecnológico de Monterrey\n",
        "###Prof Luis Eduardo Falcón Morales\n",
        "\n",
        "## **Adtividad de la Semana 02**\n",
        "###**Introducción al procesamiento de texto.**"
      ],
      "metadata": {
        "id": "759SG4TyfbUn"
      }
    },
    {
      "cell_type": "markdown",
      "source": [
        "En esta actividad deberás utilizar los datos del siguiente archivo que se encuentra en Canvas:\n",
        "\n",
        "MNA_NLP_semana_02_Actividad_datos.txt\n",
        "\n",
        "El archivo contiene comentarios en inglés sobre servicios de comida de la página de Yelp: https://www.yelp.com/ . \n",
        "\n",
        "Son mil comentarios y forman parte del conjunto de datos que se encuentra en el Machine Learning Repository de la UCI, llamado \"Sentiment Labelled Sentences\": https://archive.ics.uci.edu/ml/datasets/Sentiment+Labelled+Sentences#\n"
      ],
      "metadata": {
        "id": "6ue1YAKx3XDo"
      }
    },
    {
      "cell_type": "markdown",
      "source": [
        "#**Parte 1. Cargamos los datos.**   "
      ],
      "metadata": {
        "id": "Zj-h4drXD-X9"
      }
    },
    {
      "cell_type": "markdown",
      "source": [
        "Cargar los datos del archivo indicado y obtener una lista de longitud de 1000 strings/comentarios. \n",
        "\n",
        "Por el momento solamente requerimos las bibliotecas de Numpy y re, para el manejo de los arreglos y de las expresiones regulares en Python.\n",
        "\n",
        "En particular, no necesitarás en esta actividad la biblioteca de Pandas.\n",
        "\n",
        "###**NOTA: En esta actividad no debes importar nada más, con estas dos bibliotecas será *suficiente*.**"
      ],
      "metadata": {
        "id": "BY6yifxscfrx"
      }
    },
    {
      "cell_type": "code",
      "source": [
        "import numpy as np    # importamos Numpy para el manejo de los arreglos.\n",
        "import re             # importamos re para el manejo de las expresiones regulares."
      ],
      "metadata": {
        "id": "OJ26dAfhdFnf"
      },
      "execution_count": null,
      "outputs": []
    },
    {
      "cell_type": "code",
      "source": [
        "# Ejecuta las siguientes instrucciones para cargar la información del achivo dado:\n",
        "\n",
        "with open('MNA_NLP_semana_02_Actividad_datos.txt',        # puedes actualizar la ruta a tu archivo, en dado caso.\n",
        "          mode='r',     # abrimos el archivo en modo lectura.\n",
        "          ) as f:\n",
        "    docs = f.readlines()    # separamos cada comentario por líneas\n",
        "\n",
        "f.close()  # ya que tenemos la información en la variable docs, cerramos el archivo"
      ],
      "metadata": {
        "id": "QHUmJyjDdGNP"
      },
      "execution_count": null,
      "outputs": []
    },
    {
      "cell_type": "code",
      "source": [
        "type(docs) == list   # Verifica que tu variable \"docs\" es una lista"
      ],
      "metadata": {
        "id": "L6WzrSrodG-Y",
        "colab": {
          "base_uri": "https://localhost:8080/"
        },
        "outputId": "a4f427fb-8859-4c9a-b8f8-ae3cb9e46ab5"
      },
      "execution_count": null,
      "outputs": [
        {
          "output_type": "execute_result",
          "data": {
            "text/plain": [
              "True"
            ]
          },
          "metadata": {},
          "execution_count": 3
        }
      ]
    },
    {
      "cell_type": "code",
      "source": [
        "len(docs)==1000  # verifica que la longitud de \"docs\" es de mil comentarios."
      ],
      "metadata": {
        "id": "QIK1u9WS2FtS",
        "colab": {
          "base_uri": "https://localhost:8080/"
        },
        "outputId": "22d2f250-e004-404a-ab1e-7106fbe73d61"
      },
      "execution_count": null,
      "outputs": [
        {
          "output_type": "execute_result",
          "data": {
            "text/plain": [
              "True"
            ]
          },
          "metadata": {},
          "execution_count": 4
        }
      ]
    },
    {
      "cell_type": "code",
      "source": [
        "docs[0:10]     # observa algunos de los primeros comentarios"
      ],
      "metadata": {
        "id": "9AMLIfQvJqNZ",
        "colab": {
          "base_uri": "https://localhost:8080/"
        },
        "outputId": "6e53425f-686b-441e-a30c-f7dbc3ca952f"
      },
      "execution_count": null,
      "outputs": [
        {
          "output_type": "execute_result",
          "data": {
            "text/plain": [
              "['Wow... Loved this place.\\n',\n",
              " 'Crust is not good.\\n',\n",
              " 'Not tasty and the texture was just nasty.\\n',\n",
              " 'Stopped by during the late May bank holiday off Rick Steve recommendation and loved it.\\n',\n",
              " 'The selection on the menu was great and so were the prices.\\n',\n",
              " 'Now I am getting angry and I want my damn pho.\\n',\n",
              " \"Honeslty it didn't taste THAT fresh.)\\n\",\n",
              " 'The potatoes were like rubber and you could tell they had been made up ahead of time being kept under a warmer.\\n',\n",
              " 'The fries were great too.\\n',\n",
              " 'A great touch.\\n']"
            ]
          },
          "metadata": {},
          "execution_count": 5
        }
      ]
    },
    {
      "cell_type": "markdown",
      "source": [
        "#**Parte 2: sección de preguntas (regex).**   \n"
      ],
      "metadata": {
        "id": "k_ewoagic5jc"
      }
    },
    {
      "cell_type": "markdown",
      "source": [
        "##**Instrucciones:**\n",
        "\n",
        "###**A continuación deberás contestar cada una de las preguntas que te piden usando expresiones regulares (regex).**\n",
        "\n",
        "###**Por el momento no hay restricción en cuanto al número de líneas de código que agregues, pero trata de incluir las mínimas posibles.**"
      ],
      "metadata": {
        "id": "X-eMJa3DFCIV"
      }
    },
    {
      "cell_type": "markdown",
      "source": [
        "*   **Pregunta 1.** \n",
        "\n",
        "Busca y elimina todos los saltos de línea '\\n' que se encuentran al final de cada comentario. \n",
        "\n",
        "Una vez finalizado, imprime los primeros 10 comentarios del resultado obtenido.\n"
      ],
      "metadata": {
        "id": "78nJMemzn5a5"
      }
    },
    {
      "cell_type": "code",
      "source": [
        "docs_1 = [re.sub(r'\\n', '', line) for line in docs]\n",
        "docs_1[:10]"
      ],
      "metadata": {
        "id": "j-0qeh2Jn8l1",
        "colab": {
          "base_uri": "https://localhost:8080/"
        },
        "outputId": "42a73fc2-b198-4cb9-bdcd-3d558a220dd1"
      },
      "execution_count": null,
      "outputs": [
        {
          "output_type": "execute_result",
          "data": {
            "text/plain": [
              "['Wow... Loved this place.',\n",
              " 'Crust is not good.',\n",
              " 'Not tasty and the texture was just nasty.',\n",
              " 'Stopped by during the late May bank holiday off Rick Steve recommendation and loved it.',\n",
              " 'The selection on the menu was great and so were the prices.',\n",
              " 'Now I am getting angry and I want my damn pho.',\n",
              " \"Honeslty it didn't taste THAT fresh.)\",\n",
              " 'The potatoes were like rubber and you could tell they had been made up ahead of time being kept under a warmer.',\n",
              " 'The fries were great too.',\n",
              " 'A great touch.']"
            ]
          },
          "metadata": {},
          "execution_count": 18
        }
      ]
    },
    {
      "cell_type": "markdown",
      "source": [
        "*   **Pregunta 2.**  \n",
        "\n",
        "Busca e imprime todas las palabras que terminan con dos o más signos de admiración seguidos, por ejemplo \"!!!\". \n",
        "\n",
        "Debes imprimir tanto la palabra como la totalidad de signos de admiración que le siguen. \n",
        "\n",
        "Indica cuántos resultados obtuviste.\n",
        "\n"
      ],
      "metadata": {
        "id": "VWeKQC93ctEo"
      }
    },
    {
      "cell_type": "code",
      "source": [
        "words_to_remove = [match for line in docs_1 for match in re.findall(r'\\w+!{2,}', line)]\n",
        "words_to_remove"
      ],
      "metadata": {
        "id": "0p3kMXfddICc",
        "colab": {
          "base_uri": "https://localhost:8080/"
        },
        "outputId": "992d747f-f29d-428a-f0a7-04d2cf127cd5"
      },
      "execution_count": null,
      "outputs": [
        {
          "output_type": "execute_result",
          "data": {
            "text/plain": [
              "['Firehouse!!!!!',\n",
              " 'APPETIZERS!!!',\n",
              " 'amazing!!!',\n",
              " 'buffet!!!',\n",
              " 'good!!',\n",
              " 'it!!!!',\n",
              " 'DELICIOUS!!',\n",
              " 'amazing!!',\n",
              " 'shawarrrrrrma!!!!!!',\n",
              " 'yucky!!!',\n",
              " 'steak!!!!!',\n",
              " 'delicious!!!',\n",
              " 'far!!',\n",
              " 'biscuits!!!',\n",
              " 'dry!!',\n",
              " 'disappointing!!!',\n",
              " 'awesome!!',\n",
              " 'Up!!',\n",
              " 'FLY!!!!!!!!',\n",
              " 'here!!!',\n",
              " 'great!!!!!!!!!!!!!!',\n",
              " 'packed!!',\n",
              " 'otherwise!!',\n",
              " 'amazing!!!!!!!!!!!!!!!!!!!',\n",
              " 'style!!',\n",
              " 'disappointed!!']"
            ]
          },
          "metadata": {},
          "execution_count": 22
        }
      ]
    },
    {
      "cell_type": "code",
      "source": [
        "print(f\"Se encontraron {len(words_to_remove)} resultados\")"
      ],
      "metadata": {
        "colab": {
          "base_uri": "https://localhost:8080/"
        },
        "id": "SGgz9obVdpv5",
        "outputId": "1cf1c5ad-3f61-4cbb-b51b-e3ccfab8e4a9"
      },
      "execution_count": null,
      "outputs": [
        {
          "output_type": "stream",
          "name": "stdout",
          "text": [
            "Se encontraron 26 resultados\n"
          ]
        }
      ]
    },
    {
      "cell_type": "code",
      "source": [
        "docs_2 = [re.sub(r'\\w+!{2,}', '', line) for line in docs_1]\n",
        "docs_2[:10]"
      ],
      "metadata": {
        "id": "SPVM1MCWdH6Z",
        "colab": {
          "base_uri": "https://localhost:8080/"
        },
        "outputId": "c3e9f3ce-decc-42b9-c903-0e5a2e3f4fee"
      },
      "execution_count": null,
      "outputs": [
        {
          "output_type": "execute_result",
          "data": {
            "text/plain": [
              "['Wow... Loved this place.',\n",
              " 'Crust is not good.',\n",
              " 'Not tasty and the texture was just nasty.',\n",
              " 'Stopped by during the late May bank holiday off Rick Steve recommendation and loved it.',\n",
              " 'The selection on the menu was great and so were the prices.',\n",
              " 'Now I am getting angry and I want my damn pho.',\n",
              " \"Honeslty it didn't taste THAT fresh.)\",\n",
              " 'The potatoes were like rubber and you could tell they had been made up ahead of time being kept under a warmer.',\n",
              " 'The fries were great too.',\n",
              " 'A great touch.']"
            ]
          },
          "metadata": {},
          "execution_count": 21
        }
      ]
    },
    {
      "cell_type": "markdown",
      "source": [
        "*   **Pregunta 3.**  \n",
        "\n",
        "Busca e imprime todas las palabras que están escritas totalmente en mayúsculas. Cada coincidencia debe ser una sola palabra.\n",
        "\n",
        "Indica cuántas palabras encontraste.\n",
        "\n"
      ],
      "metadata": {
        "id": "-s3okBqL96TT"
      }
    },
    {
      "cell_type": "code",
      "source": [
        "uppercase_words = [match for line in docs_1 for match in re.findall(r'\\b[A-Z]+\\b', line)]\n",
        "print(f\"Palabras en mayúsculas encontradas {len(uppercase_words)}. {uppercase_words}\")"
      ],
      "metadata": {
        "id": "yKHJkZKo_nW5",
        "colab": {
          "base_uri": "https://localhost:8080/"
        },
        "outputId": "ce8b4a2e-7870-437e-d4b4-8dcc4ac9313b"
      },
      "execution_count": null,
      "outputs": [
        {
          "output_type": "stream",
          "name": "stdout",
          "text": [
            "Palabras en mayúsculas encontradas 455. ['I', 'I', 'THAT', 'A', 'I', 'I', 'I', 'I', 'I', 'I', 'I', 'I', 'I', 'I', 'I', 'I', 'APPETIZERS', 'A', 'I', 'I', 'I', 'I', 'I', 'I', 'I', 'WILL', 'NEVER', 'EVER', 'STEP', 'FORWARD', 'IN', 'IT', 'AGAIN', 'I', 'LOVED', 'I', 'AND', 'REAL', 'I', 'I', 'I', 'I', 'BITCHES', 'I', 'I', 'I', 'I', 'NYC', 'I', 'I', 'I', 'I', 'I', 'I', 'I', 'STALE', 'I', 'I', 'DELICIOUS', 'I', 'I', 'I', 'I', 'I', 'I', 'I', 'I', 'I', 'I', 'I', 'I', 'I', 'I', 'I', 'WORST', 'EXPERIENCE', 'EVER', 'I', 'ALL', 'I', 'BARGAIN', 'I', 'TV', 'NONE', 'I', 'M', 'FREEZING', 'AYCE', 'I', 'I', 'I', 'I', 'I', 'I', 'I', 'I', 'I', 'I', 'I', 'I', 'I', 'FLAVOR', 'I', 'I', 'I', 'I', 'I', 'I', 'I', 'I', 'I', 'I', 'I', 'I', 'I', 'I', 'I', 'I', 'I', 'I', 'NEVER', 'I', 'I', 'I', 'I', 'BBQ', 'I', 'A', 'I', 'UNREAL', 'I', 'I', 'I', 'I', 'I', 'I', 'OMG', 'I', 'BETTER', 'I', 'I', 'BLAND', 'I', 'I', 'I', 'I', 'I', 'I', 'I', 'RUDE', 'INCONSIDERATE', 'MANAGEMENT', 'I', 'I', 'WILL', 'NEVER', 'EVER', 'GO', 'BACK', 'AND', 'HAVE', 'TOLD', 'MANY', 'PEOPLE', 'WHAT', 'HAD', 'HAPPENED', 'I', 'I', 'I', 'I', 'I', 'I', 'I', 'I', 'I', 'I', 'I', 'I', 'I', 'TOTAL', 'WASTE', 'OF', 'TIME', 'I', 'I', 'I', 'I', 'I', 'I', 'I', 'I', 'I', 'I', 'I', 'I', 'I', 'I', 'I', 'FS', 'I', 'I', 'I', 'I', 'I', 'I', 'I', 'I', 'I', 'AZ', 'I', 'I', 'I', 'I', 'LOVED', 'I', 'I', 'I', 'I', 'I', 'I', 'CONCLUSION', 'I', 'I', 'I', 'I', 'I', 'I', 'BEST', 'I', 'GO', 'NOW', 'A', 'I', 'I', 'GC', 'I', 'I', 'I', 'I', 'I', 'I', 'I', 'I', 'I', 'I', 'I', 'AVOID', 'THIS', 'ESTABLISHMENT', 'I', 'I', 'I', 'A', 'I', 'I', 'AN', 'HOUR', 'I', 'I', 'I', 'I', 'I', 'I', 'I', 'I', 'NASTY', 'OMG', 'I', 'I', 'NO', 'I', 'I', 'I', 'BEST', 'I', 'I', 'I', 'I', 'THE', 'OWNERS', 'REALLY', 'REALLY', 'I', 'I', 'I', 'I', 'I', 'I', 'I', 'I', 'I', 'I', 'I', 'I', 'PERFECT', 'SCREAMS', 'LEGIT', 'I', 'MGM', 'I', 'I', 'I', 'A', 'I', 'I', 'I', 'I', 'I', 'I', 'I', 'I', 'I', 'I', 'I', 'I', 'BEST', 'I', 'I', 'T', 'A', 'FLY', 'A', 'FLY', 'I', 'I', 'I', 'I', 'I', 'I', 'I', 'I', 'I', 'I', 'I', 'I', 'FANTASTIC', 'I', 'I', 'I', 'I', 'GREAT', 'OK', 'I', 'I', 'WAY', 'I', 'I', 'MUST', 'HAVE', 'I', 'I', 'I', 'I', 'I', 'I', 'OK', 'I', 'I', 'I', 'I', 'OVERPRICED', 'I', 'I', 'I', 'I', 'I', 'I', 'I', 'I', 'I', 'I', 'I', 'I', 'I', 'I', 'I', 'I', 'I', 'I', 'I', 'I', 'I', 'I', 'I', 'I', 'I', 'BARE', 'HANDS', 'I', 'I', 'I', 'I', 'I', 'I', 'I', 'I', 'I', 'I', 'I', 'I', 'I', 'I', 'I', 'WEAK', 'I', 'I', 'I', 'I', 'I', 'I', 'I', 'I', 'SHOULD', 'I', 'I', 'I', 'RI', 'I', 'I', 'I', 'I', 'I', 'I', 'I', 'VERY', 'I', 'I', 'I', 'NOT', 'I', 'I', 'I', 'I', 'I', 'I', 'I', 'I', 'I', 'I', 'I', 'I', 'I', 'I', 'I', 'I', 'I', 'I', 'A', 'I', 'I', 'I', 'I', 'I', 'I']\n"
          ]
        }
      ]
    },
    {
      "cell_type": "code",
      "source": [
        "uppercase_words_2 = [match for line in docs_1 for match in re.findall(r'\\b[A-Z]{2,}\\b', line)]\n",
        "print(f\"Palabras en mayúsculas encontradas (de más de una letra) {len(uppercase_words_2)}. {uppercase_words_2}\")"
      ],
      "metadata": {
        "id": "L3q08aq69sNn",
        "colab": {
          "base_uri": "https://localhost:8080/"
        },
        "outputId": "5814fa3e-4d27-4604-b665-3581da9d540e"
      },
      "execution_count": null,
      "outputs": [
        {
          "output_type": "stream",
          "name": "stdout",
          "text": [
            "Palabras en mayúsculas encontradas (de más de una letra) 96. ['THAT', 'APPETIZERS', 'WILL', 'NEVER', 'EVER', 'STEP', 'FORWARD', 'IN', 'IT', 'AGAIN', 'LOVED', 'AND', 'REAL', 'BITCHES', 'NYC', 'STALE', 'DELICIOUS', 'WORST', 'EXPERIENCE', 'EVER', 'ALL', 'BARGAIN', 'TV', 'NONE', 'FREEZING', 'AYCE', 'FLAVOR', 'NEVER', 'BBQ', 'UNREAL', 'OMG', 'BETTER', 'BLAND', 'RUDE', 'INCONSIDERATE', 'MANAGEMENT', 'WILL', 'NEVER', 'EVER', 'GO', 'BACK', 'AND', 'HAVE', 'TOLD', 'MANY', 'PEOPLE', 'WHAT', 'HAD', 'HAPPENED', 'TOTAL', 'WASTE', 'OF', 'TIME', 'FS', 'AZ', 'LOVED', 'CONCLUSION', 'BEST', 'GO', 'NOW', 'GC', 'AVOID', 'THIS', 'ESTABLISHMENT', 'AN', 'HOUR', 'NASTY', 'OMG', 'NO', 'BEST', 'THE', 'OWNERS', 'REALLY', 'REALLY', 'PERFECT', 'SCREAMS', 'LEGIT', 'MGM', 'BEST', 'FLY', 'FLY', 'FANTASTIC', 'GREAT', 'OK', 'WAY', 'MUST', 'HAVE', 'OK', 'OVERPRICED', 'BARE', 'HANDS', 'WEAK', 'SHOULD', 'RI', 'VERY', 'NOT']\n"
          ]
        }
      ]
    },
    {
      "cell_type": "markdown",
      "source": [
        "*   **Pregunta 4.**  \n",
        "\n",
        "Busca e imprime los comentarios en donde todos los caracteres alfabéticos (letras) están en mayúsculas. \n",
        "\n",
        "Cada coincidencia encontrada debe ser todo el comentario/enunciado.\n",
        "\n",
        "Indica cuántos resultados obtuviste.\n"
      ],
      "metadata": {
        "id": "GX8eYyDoMZma"
      }
    },
    {
      "cell_type": "code",
      "source": [
        "def uppercase_comment(comment):\n",
        "    words = re.findall(r'\\b\\w+\\b', comment)\n",
        "    return all(word.isupper() for word in words if word.isalnum())\n",
        "\n",
        "uppercase_comments = [comment for comment in docs_1 if uppercase_comment(comment)]\n",
        "uppercase_comments"
      ],
      "metadata": {
        "id": "K8VuZxvTMYj6",
        "colab": {
          "base_uri": "https://localhost:8080/"
        },
        "outputId": "9f953a3e-ff5f-471e-9f7b-578131624dd1"
      },
      "execution_count": null,
      "outputs": [
        {
          "output_type": "execute_result",
          "data": {
            "text/plain": [
              "['DELICIOUS!!',\n",
              " 'RUDE & INCONSIDERATE MANAGEMENT.',\n",
              " 'WILL NEVER EVER GO BACK AND HAVE TOLD MANY PEOPLE WHAT HAD HAPPENED.',\n",
              " 'TOTAL WASTE OF TIME.',\n",
              " 'AVOID THIS ESTABLISHMENT!']"
            ]
          },
          "metadata": {},
          "execution_count": 36
        }
      ]
    },
    {
      "cell_type": "code",
      "source": [
        "print(f\"Se encontraron {len(uppercase_comments)} resultados\")"
      ],
      "metadata": {
        "id": "PmKgX7sCMcDx",
        "colab": {
          "base_uri": "https://localhost:8080/"
        },
        "outputId": "7ef371cf-9b65-477a-9a91-b2d0eeaa4f8d"
      },
      "execution_count": null,
      "outputs": [
        {
          "output_type": "stream",
          "name": "stdout",
          "text": [
            "Se encontraron 5 resultados\n"
          ]
        }
      ]
    },
    {
      "cell_type": "markdown",
      "source": [
        "*   **Pregunta 5.**  \n",
        "\n",
        "Busca e imprime todas las palabras que tengan una vocal acentuada, del tipo á, é, í, ó, ú. \n",
        "\n",
        "Indica cuántos resultados obtuviste."
      ],
      "metadata": {
        "id": "a1i6qv7-McmU"
      }
    },
    {
      "cell_type": "code",
      "source": [
        "palabras_vocales_acentuadas = [match for line in docs_1 for match in re.findall(r'\\b\\w*[áéíóúÁÉÍÓÚ]\\w*\\b', line)]\n",
        "palabras_vocales_acentuadas"
      ],
      "metadata": {
        "id": "nZZ5zKUOMeGD",
        "colab": {
          "base_uri": "https://localhost:8080/"
        },
        "outputId": "5869fe8d-3d04-4be8-8b98-839c5957fee3"
      },
      "execution_count": null,
      "outputs": [
        {
          "output_type": "execute_result",
          "data": {
            "text/plain": [
              "['fiancé', 'Café', 'puréed']"
            ]
          },
          "metadata": {},
          "execution_count": 37
        }
      ]
    },
    {
      "cell_type": "code",
      "source": [
        "print(f\"Se encontraron {len(palabras_vocales_acentuadas)} resultados\")"
      ],
      "metadata": {
        "id": "l1mFvUEZMe8s",
        "colab": {
          "base_uri": "https://localhost:8080/"
        },
        "outputId": "a9c1fb59-a250-44fb-9fa4-4c2eeceaaceb"
      },
      "execution_count": null,
      "outputs": [
        {
          "output_type": "stream",
          "name": "stdout",
          "text": [
            "Se encontraron 3 resultados\n"
          ]
        }
      ]
    },
    {
      "cell_type": "markdown",
      "source": [
        "*   **Pregunta 6.**  \n",
        "\n",
        "Busca e imprime todas las cantidades numéricas monetarias, enteras o con decimales, que inician con el símbolo $\\$$. \n",
        "\n",
        "Indica cuántos resultados obtuviste."
      ],
      "metadata": {
        "id": "ZmPiAI82Mfb3"
      }
    },
    {
      "cell_type": "code",
      "source": [
        "cantidades_numericas_monetarias = [match for line in docs_1 for match in re.findall(r'\\$\\d+(?:\\.\\d{1,2})?', line)]\n",
        "cantidades_numericas_monetarias"
      ],
      "metadata": {
        "id": "6vhe9-Y-MhL9",
        "colab": {
          "base_uri": "https://localhost:8080/"
        },
        "outputId": "eecbeb2d-5aa7-411a-cd4f-beee8350e06f"
      },
      "execution_count": null,
      "outputs": [
        {
          "output_type": "execute_result",
          "data": {
            "text/plain": [
              "['$20', '$4.00', '$17', '$3', '$35', '$7.85', '$12', '$11.99']"
            ]
          },
          "metadata": {},
          "execution_count": 43
        }
      ]
    },
    {
      "cell_type": "code",
      "source": [
        "print(f\"Se encontraron {len(cantidades_numericas_monetarias)} resultados\")"
      ],
      "metadata": {
        "id": "_t0a5xWDMhQ5",
        "colab": {
          "base_uri": "https://localhost:8080/"
        },
        "outputId": "df21a190-4882-499f-e5b1-ba74116575c5"
      },
      "execution_count": null,
      "outputs": [
        {
          "output_type": "stream",
          "name": "stdout",
          "text": [
            "Se encontraron 8 resultados\n"
          ]
        }
      ]
    },
    {
      "cell_type": "markdown",
      "source": [
        "*   **Pregunta 7.**  \n",
        "\n",
        "Busca e imprime todas las palabras que sean variantes de la palabra \"love\", sin importar si incluyen mayúsculas o minúsculas, o la manera en que esté conjugada o alguna otra variación que se haga con dicha palabra.\n",
        "\n",
        "Indica cuántos resultados obtuviste."
      ],
      "metadata": {
        "id": "2j-HpvhwMhq2"
      }
    },
    {
      "cell_type": "code",
      "source": [
        "love_words_1 = [match for line in docs_1 for match in re.findall(r'\\blov\\w*\\b', line, flags=re.IGNORECASE)]\n",
        "print(f\"Se encontraron {len(love_words_1)} resultados. {love_words_1}\")"
      ],
      "metadata": {
        "colab": {
          "base_uri": "https://localhost:8080/"
        },
        "id": "rESrpNDQppeZ",
        "outputId": "671b0b2c-ee0e-42ea-d5c9-a1ef46ee824a"
      },
      "execution_count": null,
      "outputs": [
        {
          "output_type": "stream",
          "name": "stdout",
          "text": [
            "Se encontraron 36 resultados. ['Loved', 'loved', 'Loved', 'love', 'loves', 'LOVED', 'lovers', 'loving', 'love', 'lovers', 'Love', 'loved', 'loved', 'love', 'love', 'love', 'loved', 'love', 'loved', 'Love', 'LOVED', 'love', 'lovely', 'love', 'lovely', 'love', 'lover', 'loved', 'love', 'love', 'love', 'love', 'love', 'love', 'love', 'love']\n"
          ]
        }
      ]
    },
    {
      "cell_type": "markdown",
      "source": [
        "*   **Pregunta 8.**  \n",
        "\n",
        "Busca e imprime todas las palabras, variantes de \"so\" y \"good\", que tengan dos o más \"o\" en \"so\" y 3 o más \"o\" en good. \n",
        "\n",
        "Indica cuántas encontraste.\n"
      ],
      "metadata": {
        "id": "Ctb-NTY3MkYG"
      }
    },
    {
      "cell_type": "code",
      "source": [
        "so_good_words = [match for line in docs_1 for match in re.findall(r'\\b(?:s[o]{2,}|g[o]{3,}d)\\b', line, flags=re.IGNORECASE)]\n",
        "print(f\"Se encontraron {len(so_good_words)} resultados. {so_good_words}\")"
      ],
      "metadata": {
        "id": "A8Nf3B_cMlqg",
        "colab": {
          "base_uri": "https://localhost:8080/"
        },
        "outputId": "c736efd6-fcde-4ebb-9f53-b8c4f1fe0737"
      },
      "execution_count": null,
      "outputs": [
        {
          "output_type": "stream",
          "name": "stdout",
          "text": [
            "Se encontraron 4 resultados. ['Sooooo', 'soooo', 'soooooo', 'soooo']\n"
          ]
        }
      ]
    },
    {
      "cell_type": "markdown",
      "source": [
        "*   **Pregunta 9.**  \n",
        "\n",
        "Busca e imprime todas las palabras que tengan una longitud mayor estrictamente a 10 caracteres alfabéticos.\n",
        "\n",
        "No se consideran los signos de puntuación o caracteres especiales en la longitud de estas cadenas, solo caracteres alfabéticos en mayúsculas o minúsculas.\n",
        "\n",
        "Indica la cantidad de palabras encontradas.\n"
      ],
      "metadata": {
        "id": "hkak1opjMmlk"
      }
    },
    {
      "cell_type": "code",
      "source": [
        "gt_10_chars_words = [match for line in docs_1 for match in re.findall(r'\\b(?:\\w*[a-zA-Z]\\w*){11,}\\b', line)]\n",
        "print(f\"Se encontraron {len(gt_10_chars_words)} resultados. {gt_10_chars_words}\")"
      ],
      "metadata": {
        "id": "PYxdp3uhMoD0",
        "colab": {
          "base_uri": "https://localhost:8080/"
        },
        "outputId": "6c35c950-47fa-4710-be25-1f0842e74c04"
      },
      "execution_count": null,
      "outputs": [
        {
          "output_type": "stream",
          "name": "stdout",
          "text": [
            "Se encontraron 141 resultados. ['recommendation', 'recommended', 'overwhelmed', 'inexpensive', 'establishment', 'imaginative', 'opportunity', 'experiencing', 'underwhelming', 'relationship', 'unsatisfying', 'disappointing', 'outrageously', 'disappointing', 'expectations', 'restaurants', 'suggestions', 'disappointed', 'considering', 'Unfortunately', 'immediately', 'ingredients', 'accommodations', 'maintaining', 'Interesting', 'disrespected', 'accordingly', 'unbelievable', 'cheeseburger', 'descriptions', 'inexpensive', 'disappointed', 'Veggitarian', 'outstanding', 'recommendation', 'disappointed', 'disappointed', 'neighborhood', 'disappointed', 'corporation', 'considering', 'exceptional', 'shawarrrrrrma', 'disappointed', 'vinaigrette', 'immediately', 'unbelievably', 'replenished', 'disappointed', 'enthusiastic', 'Outstanding', 'comfortable', 'interesting', 'INCONSIDERATE', 'considering', 'transcendant', 'disappointment', 'disappointed', 'disappointed', 'overwhelmed', 'professional', 'Furthermore', 'combination', 'connoisseur', 'profiterole', 'outstanding', 'acknowledged', 'ventilation', 'beautifully', 'establishment', 'extraordinary', 'disappointed', 'cheesecurds', 'disappointed', 'interesting', 'experienced', 'opportunity', 'disgraceful', 'restaurants', 'ESTABLISHMENT', 'recommended', 'disappointed', 'recommended', 'acknowledged', 'presentation', 'Philadelphia', 'disappointed', 'disappointing', 'grandmother', 'drastically', 'informative', 'Disappointed', 'constructed', 'comfortable', 'Smashburger', 'cheeseburger', 'neighborhood', 'disappointed', 'hospitality', 'recommending', 'disappointed', 'deliciously', 'compliments', 'recommendation', 'establishment', 'calligraphy', 'traditional', 'combination', 'Unfortunately', 'Wienerschnitzel', 'unfortunately', 'considering', 'highlighted', 'Mediterranean', 'unprofessional', 'anticipated', 'disappointing', 'unexperienced', 'disrespected', 'professional', 'restaurants', 'Disappointing', 'WAAAAAAyyyyyyyyyy', 'reservation', 'imagination', 'undercooked', 'disappointed', 'disappointment', 'disappointment', 'deuchebaggery', 'disappointed', 'disappointment', 'immediately', 'Unfortunately', 'disapppointment', 'circumstances', 'undercooked', 'caterpillar', 'presentation', 'disappointed', 'underwhelming']\n"
          ]
        }
      ]
    },
    {
      "cell_type": "markdown",
      "source": [
        "*   **Pregunta 10.**  \n",
        "\n",
        "Busca e imprime todas las palabras que inician con una letra mayúscula y terminan con una minúscula, pero que además no sea la primera palabra del comentario/string. \n",
        "\n",
        "Indica la cantidad de resultados obtenidos."
      ],
      "metadata": {
        "id": "ApjTNzSxMpDc"
      }
    },
    {
      "cell_type": "code",
      "source": [
        "capitalized_words = [match for line in docs_1 for match in re.findall(r'(?<=\\s)[A-Z][a-z]+', line)]\n",
        "print(f\"Se encontraron {len(capitalized_words)} resultados. {capitalized_words}\")"
      ],
      "metadata": {
        "id": "Vb0ndRGAMqdL",
        "colab": {
          "base_uri": "https://localhost:8080/"
        },
        "outputId": "6697b0bb-e8e9-480d-b3ee-bf2319c92968"
      },
      "execution_count": null,
      "outputs": [
        {
          "output_type": "stream",
          "name": "stdout",
          "text": [
            "Se encontraron 267 resultados. ['Loved', 'May', 'Rick', 'Steve', 'Cape', 'Cod', 'Vegas', 'Burrittos', 'Blah', 'The', 'They', 'Mexican', 'Luke', 'Our', 'Hiro', 'Firehouse', 'Greek', 'Greek', 'Heart', 'Attack', 'Grill', 'Vegas', 'Dos', 'Gringos', 'Jeff', 'Really', 'Excalibur', 'Very', 'Bad', 'Customer', 'Service', 'Vegas', 'Rice', 'Company', 'Pho', 'Hard', 'Rock', 'Casino', 'Buffet', 'Tigerlilly', 'Yama', 'Thai', 'Indian', 'Not', 'Vegas', 'Lox', 'Subway', 'Subway', 'Vegas', 'Vegas', 'Mandalay', 'Bay', 'Great', 'Voodoo', 'Phoenix', 'Vegas', 'Khao', 'Soi', 'Lemon', 'Joey', 'Valley', 'Phoenix', 'Magazine', 'Pho', 'Fridays', 'Tasty', 'Jamaican', 'Bisque', 'Bussell', 'Sprouts', 'Risotto', 'Filet', 'Otto', 'Yeah', 'Honestly', 'Not', 'Also', 'Vegas', 'Greek', 'Vegas', 'Veggitarian', 'Madison', 'Ironman', 'Jenni', 'Pho', 'Bachi', 'Burger', 'Pizza', 'Salads', 'They', 'Yelpers', 'Bachi', 'Service', 'English', 'Pizza', 'Hut', 'Seat', 'Standard', 'Thai', 'Tucson', 'Vegas', 'Chipotle', 'Gordon', 'Ramsey', 'Steak', 'Vegas', 'Outstanding', 'Best', 'Food', 'Lobster', 'Bisque', 'Vegas', 'Eggplant', 'Green', 'Bean', 'Halibut', 'Vegas', 'Vegas', 'Vegas', 'Crystals', 'Aria', 'Ians', 'Bouchon', 'San', 'Francisco', 'Bay', 'Area', 'Buldogis', 'Gourmet', 'Hot', 'Dog', 'Steiners', 'Carly', 'Vegas', 'Camelback', 'Flower', 'Shop', 'Cartel', 'Coffee', 'Las', 'Vegas', 'Very', 'Mom', 'Noca', 'Vegas', 'Sat', 'Sun', 'Mexican', 'Frenchman', 'Perfect', 'Vegas', 'Palm', 'This', 'Thai', 'Toast', 'Thai', 'Phoenix', 'Crema', 'Caf', 'Philadelphia', 'North', 'Scottsdale', 'Bloody', 'Mary', 'Pho', 'Caesar', 'Macarons', 'Experience', 'Very', 'Disappointed', 'Big', 'Bay', 'Plater', 'Italian', 'Vegas', 'Baba', 'Ganoush', 'Nobu', 'Smashburger', 'Panna', 'Cotta', 'Breeze', 'Mango', 'Magic', 'Pineapple', 'Delight', 'The', 'Strip', 'Steak', 'Paradise', 'Valley', 'Cibo', 'Thumbs', 'Up', 'Italian', 'Pros', 'Large', 'Nice', 'Great', 'The', 'Elk', 'Filet', 'Dylan', 'All', 'Han', 'Nan', 'Chicken', 'Bar', 'Edinburgh', 'Chinese', 'Indian', 'Chinese', 'Prices', 'Phoenix', 'Both', 'Hot', 'Sour', 'Egg', 'Flower', 'Soups', 'Stars', 'Sunday', 'Hunan', 'The', 'Pita', 'Wienerschnitzel', 'Maine', 'Lobster', 'Roll', 'Kabuki', 'Maria', 'Caballero', 'Wife', 'Strip', 'Costco', 'To', 'Place', 'Gyros', 'Japanese', 'Albondigas', 'Mediterranean', 'Chicken', 'Salad', 'Mellow', 'Mushroom', 'Thai', 'Vegas', 'Mmmm', 'Buffet', 'Bellagio', 'Vegas', 'Christmas', 'Eve', 'Denny', 'Vegetarian', 'Taco', 'Heimer', 'Ha', 'Long', 'Bay', 'Subway', 'When', 'Brushfire', 'Mirage', 'In', 'Ninja', 'Sushi']\n"
          ]
        }
      ]
    },
    {
      "cell_type": "markdown",
      "source": [
        "*   **Pregunta 11.**  \n",
        "\n",
        "Busca e imprime la secuencia de dos o más palabras que están separadas por un guion, \"-\", sin que tengan espacios en blanco entre ellas.\n",
        "\n",
        "Por ejemplo \"Go-Kart\" sería válido, pero \"Go  -Kart\" o \"Go  -  Kart\" no lo serían. \n",
        "\n",
        "Indica la cantidad de resultados obtenidos."
      ],
      "metadata": {
        "id": "u7nfm4KhMrNW"
      }
    },
    {
      "cell_type": "code",
      "source": [
        "hyphen_words = [match for line in docs_1 for match in re.findall(r'\\b\\w+-\\w+\\b', line)]\n",
        "print(f\"Se encontraron {len(hyphen_words)} resultados. {hyphen_words}\")"
      ],
      "metadata": {
        "id": "OwU-a7eGMsub",
        "colab": {
          "base_uri": "https://localhost:8080/"
        },
        "outputId": "d6b1d140-44bb-49a2-bca2-a44eaf41b892"
      },
      "execution_count": null,
      "outputs": [
        {
          "output_type": "stream",
          "name": "stdout",
          "text": [
            "Se encontraron 21 resultados. ['flat-lined', 'hands-down', 'must-stop', 'sub-par', 'Service-check', 'in-house', 'been-stepped', 'in-and', 'tracked-everywhere', 'multi-grain', 'to-go', 'non-customer', 'High-quality', 'sit-down', 'over-whelm', 'low-key', 'non-fancy', 'golden-crispy', 'over-priced', 'over-hip', 'under-services']\n"
          ]
        }
      ]
    },
    {
      "cell_type": "markdown",
      "source": [
        "*   **Pregunta 12.**  \n",
        "\n",
        "Busca e imprime todas las palabras que terminan en \"ing\" o \"ed\". \n",
        "\n",
        "Indica la cantidad de palabras que encontraste de cada una."
      ],
      "metadata": {
        "id": "DEIgl79HMthr"
      }
    },
    {
      "cell_type": "code",
      "source": [
        "ing_ed_words = [match for line in docs_1 for match in re.findall(r'\\b\\w+(?:ing|ed)\\b', line)]\n",
        "print(f\"Se encontraron {len(ing_ed_words)} resultados. {ing_ed_words}\")"
      ],
      "metadata": {
        "id": "I4TSofBMMv9y",
        "colab": {
          "base_uri": "https://localhost:8080/"
        },
        "outputId": "8d8aa0b4-d845-421a-bcc0-91bfc2b2d23f"
      },
      "execution_count": null,
      "outputs": [
        {
          "output_type": "stream",
          "name": "stdout",
          "text": [
            "Se encontraron 614 resultados. ['Loved', 'Stopped', 'during', 'loved', 'getting', 'being', 'ended', 'being', 'overpriced', 'tried', 'disgusted', 'shocked', 'recommended', 'amazing', 'performed', 'red', 'asked', 'running', 'overwhelmed', 'redeeming', 'grossed', 'melted', 'getting', 'provided', 'thing', 'cooked', 'dressing', 'refreshing', 'ordered', 'running', 'realized', 'Loved', 'lined', 'cooked', 'ripped', 'ripped', 'petrified', 'amazing', 'included', 'expected', 'nothing', 'appalling', 'seasoned', 'cheated', 'wasting', 'eating', 'going', 'Coming', 'experiencing', 'underwhelming', 'walked', 'smelled', 'eating', 'raving', 'tailored', 'spring', 'unsatisfying', 'amazing', 'Everything', 'disappointing', 'dining', 'flirting', 'arrived', 'roasted', 'added', 'thing', 'coming', 'cooked', 'playing', 'passed', 'ordering', 'arriving', 'liked', 'disappointing', 'managed', 'served', 'preparing', 'loving', 'liking', 'reviewing', 'venturing', 'overpriced', 'including', 'during', 'checked', 'disappointed', 'red', 'decorated', 'changing', 'going', 'considering', 'served', 'coming', 'watched', 'greeted', 'seated', 'waited', 'flavored', 'ordered', 'going', 'everything', 'ordered', 'relocated', 'impressed', 'seated', 'priced', 'looking', 'treated', 'ordered', 'dressing', 'dining', 'used', 'handed', 'listed', 'missed', 'Everything', 'thrilled', 'amazing', 'judging', 'inspired', 'desired', 'maintaining', 'asking', 'overcooked', 'decided', 'looked', 'having', 'dressed', 'treated', 'something', 'lacking', 'ordered', 'sucked', 'expected', 'sucked', 'imagined', 'Interesting', 'served', 'preparing', 'arrived', 'missing', 'feeling', 'satisfied', 'voted', 'insulted', 'disrespected', 'exceeding', 'dreamed', 'inviting', 'lived', 'stepped', 'mixed', 'showed', 'climbing', 'waiting', 'realized', 'coming', 'loved', 'being', 'lacking', 'needed', 'going', 'loved', 'wrapped', 'uninspired', 'amazing', 'dealing', 'annoying', 'Ordered', 'falling', 'uploaded', 'sporting', 'covered', 'supposed', 'amazing', 'rolled', 'stayed', 'providing', 'building', 'lighting', 'Based', 'received', 'going', 'nothing', 'privileged', 'working', 'eating', 'dressing', 'being', 'charged', 'visited', 'proclaimed', 'disappointed', 'Stopped', 'dedicated', 'liked', 'outstanding', 'getting', 'disappointed', 'waited', 'waited', 'burned', 'waited', 'amazing', 'disappointed', 'Waited', 'disappointed', 'pulled', 'prepared', 'rating', 'eating', 'writing', 'everything', 'dining', 'fried', 'boring', 'passed', 'charming', 'ordered', 'toasted', 'untoasted', 'going', 'figured', 'making', 'pricing', 'considering', 'returned', 'amazing', 'eyed', 'disappointed', 'pleased', 'Everything', 'replenished', 'disappointed', 'nothing', 'nothing', 'driving', 'treated', 'during', 'evening', 'offered', 'Outstanding', 'tasted', 'buying', 'handling', 'wasting', 'craving', 'dropped', 'dining', 'decorated', 'interesting', 'amazing', 'being', 'served', 'outshining', 'starving', 'coming', 'walked', 'stuffed', 'considering', 'located', 'shopping', 'nothing', 'Cooked', 'disappointed', 'getting', 'screwed', 'frustrated', 'iced', 'stuffed', 'disappointed', 'trying', 'grossed', 'enjoyed', 'eating', 'going', 'looked', 'overwhelmed', 'stayed', 'everything', 'smeared', 'stepped', 'tracked', 'tried', 'rushed', 'loved', 'Ordered', 'Nothing', 'cooked', 'going', 'insulted', 'contained', 'enjoyed', 'relaxed', 'loved', 'outstanding', 'running', 'acknowledged', 'forgetting', 'upgrading', 'trimmed', 'cooked', 'claimed', 'handled', 'asked', 'eating', 'bring', 'hoping', 'living', 'limited', 'boiled', 'dining', 'liked', 'sliced', 'attached', 'humiliated', 'filling', 'fried', 'amazing', 'impressed', 'disappointed', 'priced', 'Everything', 'disappointed', 'thing', 'amazing', 'need', 'Everything', 'interesting', 'need', 'experienced', 'amazing', 'amazing', 'waited', 'seated', 'waiting', 'going', 'going', 'dining', 'decided', 'pleased', 'saving', 'something', 'trying', 'disgusting', 'hankering', 'recommended', 'being', 'helped', 'witnessed', 'Waited', 'waited', 'waited', 'checked', 'tasted', 'disappointed', 'being', 'served', 'rated', 'recommended', 'pulled', 'waited', 'being', 'acknowledged', 'setting', 'perpared', 'dusted', 'powdered', 'enjoyed', 'expanded', 'sitting', 'ended', 'waiting', 'arrived', 'satisfying', 'wanted', 'disappointed', 'eating', 'need', 'being', 'freaking', 'checked', 'impressed', 'reheated', 'getting', 'amazing', 'tasted', 'disappointing', 'grilled', 'seasoning', 'going', 'focused', 'roasted', 'asked', 'being', 'ignored', 'bring', 'letting', 'tasted', 'evening', 'Ordered', 'greeted', 'seated', 'Tried', 'waiting', 'being', 'seated', 'eating', 'going', 'Disappointed', 'ordered', 'constructed', 'seating', 'fried', 'playing', 'requested', 'amazing', 'staying', 'used', 'tasted', 'giving', 'talking', 'amazing', 'drenched', 'amazing', 'amazing', 'tried', 'walked', 'expected', 'amazing', 'disappointed', 'mortified', 'filling', 'dripping', 'impressed', 'going', 'serving', 'refrained', 'recommending', 'pleased', 'thing', 'reading', 'loved', 'grilled', 'reminded', 'seating', 'sucked', 'hooked', 'ordered', 'going', 'disappointed', 'everything', 'seasoned', 'thing', 'added', 'sitting', 'waiting', 'bring', 'revisiting', 'coming', 'touched', 'anything', 'fried', 'opened', 'impressed', 'feeling', 'during', 'watched', 'thing', 'being', 'Tasted', 'amazing', 'being', 'amazing', 'ordered', 'satifying', 'describing', 'coming', 'everything', 'received', 'Paying', 'going', 'impressed', 'overcooked', 'cooked', 'needed', 'served', 'thing', 'ordered', 'amazing', 'overpriced', 'packed', 'getting', 'opposed', 'cramming', 'priced', 'surprised', 'considering', 'focused', 'overpriced', 'fucking', 'tried', 'enjoyed', 'going', 'qualified', 'tasted', 'hated', 'appealing', 'getting', 'coming', 'watched', 'Everything', 'fried', 'dealing', 'everything', 'tried', 'something', 'during', 'helped', 'dining', 'cooking', 'dining', 'started', 'editing', 'highlighted', 'setting', 'used', 'amazing', 'enjoyed', 'ordered', 'tasted', 'asked', 'refused', 'tried', 'rotating', 'Pricing', 'toasted', 'satisfying', 'anticipated', 'disappointing', 'amazing', 'returning', 'unexperienced', 'running', 'insulted', 'disrespected', 'being', 'impressed', 'thing', 'puréed', 'nothing', 'poisoning', 'thinking', 'something', 'going', 'disgusting', 'caring', 'bring', 'asked', 'Disappointing', 'rated', 'saying', 'going', 'lacked', 'coming', 'sliced', 'pulled', 'building', 'seating', 'undercooked', 'dipping', 'seemed', 'watered', 'lacked', 'disappointed', 'overpriced', 'setting', 'ensued', 'anything', 'drinking', 'serving', 'disappointed', 'placed', 'avoided', 'received', 'wanted', 'doing', 'sucked', 'happened', 'putting', 'owned', 'wanted', 'Overpriced', 'getting', 'vomited', 'looking', 'started', 'coming', 'unwrapped', 'lacked', 'seemed', 'undercooked', 'closed', 'staying', 'refried', 'dried', 'disappointed', 'lacking', 'impressed', 'underwhelming', 'wasted', 'poured', 'drawing', 'bring']\n"
          ]
        }
      ]
    },
    {
      "cell_type": "code",
      "source": [
        "print(f'Cantidad de palabras que terminan en \"ing\": {len([word for word in ing_ed_words if word.endswith(\"ing\")])}')\n",
        "print(f'Cantidad de palabras que terminan en \"ed\": {len([word for word in ing_ed_words if word.endswith(\"ed\")])}')"
      ],
      "metadata": {
        "id": "AhGq6De2Mvyh",
        "colab": {
          "base_uri": "https://localhost:8080/"
        },
        "outputId": "2e8adcd9-421a-4f12-e92e-823b29be8740"
      },
      "execution_count": null,
      "outputs": [
        {
          "output_type": "stream",
          "name": "stdout",
          "text": [
            "Cantidad de palabras que terminan en \"ing\": 279\n",
            "Cantidad de palabras que terminan en \"ed\": 335\n"
          ]
        }
      ]
    },
    {
      "cell_type": "markdown",
      "source": [
        "#**Parte 3. Proceso de limpieza.**"
      ],
      "metadata": {
        "id": "70StdqAZa9E9"
      }
    },
    {
      "cell_type": "markdown",
      "source": [
        "*   **Pregunta 13.**  \n",
        "\n",
        "Ahora realiza un proceso de limpieza del corpus que incluya los siguientes procesos:\n",
        "\n",
        "*   Solo se deben considerar caracteres alfabéticos. Es decir, se eliminan todos los signos de puntuación y caracteres especiales.\n",
        "*   Todos los caracteres alfabéticos se transforman a minúsculas.\n",
        "*   Se deben eliminar todos los espacios en blanco adicionales que se puedan encontrar en cada comentario.\n",
        "\n",
        "Al finalizar dicho proceso de limpieza, imprime el resultado de los primeros 10 comentarios resultantes. \n",
        "   \n",
        "\n",
        "\n"
      ],
      "metadata": {
        "id": "xaDUFXHrMvX2"
      }
    },
    {
      "cell_type": "code",
      "source": [
        "docs_3 = [re.sub(r'[^a-zA-Z\\s]', '', line).lower() for line in docs_1]\n",
        "docs_3 = [re.sub(r'\\s+', ' ', line.strip()) for line in docs_3]\n",
        "docs_3[:10]"
      ],
      "metadata": {
        "id": "K3kQzPOPMx0w",
        "colab": {
          "base_uri": "https://localhost:8080/"
        },
        "outputId": "8a722ffe-868f-41c8-bf7f-ddc4b29167f4"
      },
      "execution_count": null,
      "outputs": [
        {
          "output_type": "execute_result",
          "data": {
            "text/plain": [
              "['wow loved this place',\n",
              " 'crust is not good',\n",
              " 'not tasty and the texture was just nasty',\n",
              " 'stopped by during the late may bank holiday off rick steve recommendation and loved it',\n",
              " 'the selection on the menu was great and so were the prices',\n",
              " 'now i am getting angry and i want my damn pho',\n",
              " 'honeslty it didnt taste that fresh',\n",
              " 'the potatoes were like rubber and you could tell they had been made up ahead of time being kept under a warmer',\n",
              " 'the fries were great too',\n",
              " 'a great touch']"
            ]
          },
          "metadata": {},
          "execution_count": 60
        }
      ]
    },
    {
      "cell_type": "markdown",
      "source": [
        "*   **Pregunta 14.**  \n",
        "\n",
        "Con el resultado de la limpieza obtenido en la pregunta anterior, realiza ahora un proceso de tokenización por palabras del corpus. \n",
        "\n",
        "Es decir, al final de este proceso de tokenización, debes tener como resultado una lista de listas, donde cada comentario estará tokenizado por palabras.\n",
        "\n",
        "Al terminar calcula el total de tokens obtenido en todo el corpus. "
      ],
      "metadata": {
        "id": "WZwEhg2lUSAX"
      }
    },
    {
      "cell_type": "code",
      "source": [
        "docs_tokenized = [line.split() for line in docs_3]\n",
        "total_tokens = sum([len(line) for line in docs_tokenized])\n",
        "print(f'Total de tokens en todo el corpus: {total_tokens}')\n",
        "for i in range(10):\n",
        "    print(docs_tokenized[i])"
      ],
      "metadata": {
        "id": "kbAL9-v0V-jx",
        "colab": {
          "base_uri": "https://localhost:8080/"
        },
        "outputId": "5badee78-49ba-4933-a45f-3d50682ba079"
      },
      "execution_count": null,
      "outputs": [
        {
          "output_type": "stream",
          "name": "stdout",
          "text": [
            "Total de tokens en todo el corpus: 10777\n",
            "['wow', 'loved', 'this', 'place']\n",
            "['crust', 'is', 'not', 'good']\n",
            "['not', 'tasty', 'and', 'the', 'texture', 'was', 'just', 'nasty']\n",
            "['stopped', 'by', 'during', 'the', 'late', 'may', 'bank', 'holiday', 'off', 'rick', 'steve', 'recommendation', 'and', 'loved', 'it']\n",
            "['the', 'selection', 'on', 'the', 'menu', 'was', 'great', 'and', 'so', 'were', 'the', 'prices']\n",
            "['now', 'i', 'am', 'getting', 'angry', 'and', 'i', 'want', 'my', 'damn', 'pho']\n",
            "['honeslty', 'it', 'didnt', 'taste', 'that', 'fresh']\n",
            "['the', 'potatoes', 'were', 'like', 'rubber', 'and', 'you', 'could', 'tell', 'they', 'had', 'been', 'made', 'up', 'ahead', 'of', 'time', 'being', 'kept', 'under', 'a', 'warmer']\n",
            "['the', 'fries', 'were', 'great', 'too']\n",
            "['a', 'great', 'touch']\n"
          ]
        }
      ]
    },
    {
      "cell_type": "markdown",
      "source": [
        "*   **Pregunta 15.**  \n",
        "\n",
        "Finalmente, en este ejercicio definiremos nuestro conjunto de palabras \"stopwords\", las cuales deberás eliminar de todo el corpus. \n",
        "\n",
        "Recuerda que ejemplos de stopwords son artículos, adverbios, conectivos, etcétera, que tienen frecuencias de aparición muy altas en cualquier documento, pero que no brindan mucho significado en cuanto al significado de un enunciado.\n",
        "\n",
        "Con base a la lista de stopwords que se te proporciona, realiza un proceso de limpieza eliminando todas estas palabras del corpus obtenido en el ejercicio anterior.\n",
        "\n",
        "Obtener cuántos tokens/palabras quedan finalmente en todo el corpus.\n",
        "\n",
        "Obtener cuántos de estos tokens/palabras son diferentes, es decir, cuántos tokens únicos tendrá lo que llamaremos más adelante nuestro vocabulario."
      ],
      "metadata": {
        "id": "EFeu0OJ7WDPD"
      }
    },
    {
      "cell_type": "code",
      "source": [
        "# Considera la siguiente lista como tu conjunto de stopwords:\n",
        "mis_stopwords = ['i', 'me', 'my', 'myself', 'we', 'our', 'ours', 'ourselves', 'you', 'your', 'yours', 'he', 'him', 'his', 'himself', 'she', 'her', 'hers', 'herself', 'it', 'its', 'itself', 'they', 'them', 'their', 'theirs', 'themselves', 'what', 'which', 'who', 'whom', 'this', 'that', 'these', 'those', 'am', 'is', 'are', 'was', 'were', 'be', 'been', 'being', 'have', 'has', 'had', 'having', 'do', 'does', 'did', 'doing', 'a', 'an', 'the', 'and', 'but', 'if', 'or', 'because', 'as', 'until', 'while', 'of', 'at', 'by', 'for', 'with', 'about', 'against', 'between', 'into', 'through', 'during', 'before', 'after', 'above', 'below', 'to', 'from', 'up', 'down', 'in', 'out', 'on', 'over', 'under', 'again', 'further', 'then', 'once', 'here', 'there', 'when', 'where', 'why', 'how', 'all', 'any', 'both', 'each', 'few', 'more', 'most', 'other', 'some', 'such', 'only', 'own', 'same', 'so', 'than', 'too', 'very', 's', 't', 'can', 'will', 'just', 'should', 'now', 'll']"
      ],
      "metadata": {
        "id": "6FP4FF3KXGxm"
      },
      "execution_count": null,
      "outputs": []
    },
    {
      "cell_type": "code",
      "source": [
        "docs_no_stopwords = []\n",
        "for line in docs_tokenized:   \n",
        "    line_no_stopwords = [word for word in line if word not in mis_stopwords]    \n",
        "    docs_no_stopwords.append(line_no_stopwords)\n",
        "    \n",
        "total_tokens_no_stopwords = sum([len(line) for line in docs_no_stopwords])\n",
        "print(total_tokens_no_stopwords)"
      ],
      "metadata": {
        "id": "CD8yjyq1ZrwY",
        "colab": {
          "base_uri": "https://localhost:8080/"
        },
        "outputId": "1ecfc18b-074e-4daf-8532-2f2a5fb4825c"
      },
      "execution_count": null,
      "outputs": [
        {
          "output_type": "stream",
          "name": "stdout",
          "text": [
            "5776\n"
          ]
        }
      ]
    },
    {
      "cell_type": "code",
      "source": [
        "unique_tokens = set([word for line in docs_no_stopwords for word in line])\n",
        "print(f\"Se encontraron {len(unique_tokens)} resultados. {unique_tokens}\")"
      ],
      "metadata": {
        "id": "4ZPi5prKZro5",
        "colab": {
          "base_uri": "https://localhost:8080/"
        },
        "outputId": "d68843e1-5ab3-47de-9922-1fbfe93dde8a"
      },
      "execution_count": null,
      "outputs": [
        {
          "output_type": "stream",
          "name": "stdout",
          "text": [
            "Se encontraron 1941 resultados. {'prices', 'yucky', 'employees', 'edinburgh', 'saying', 'dropped', 'covered', 'outside', 'topvery', 'forgetting', 'disbelief', 'sashimi', 'make', 'three', 'skimp', 'miss', 'feeling', 'deeply', 'beateous', 'fav', 'bit', 'bought', 'discount', 'rave', 'hut', 'hungry', 'spicier', 'gyro', 'weekend', 'ambience', 'fruit', 'bites', 'bug', 'mean', 'awful', 'hit', 'may', 'waiter', 'lacked', 'moods', 'gringos', 'expected', 'known', 'count', 'hankering', 'seat', 'grab', 'coupons', 'bachi', 'human', 'returned', 'reasonable', 'fianc', 'restaurants', 'wed', 'breakfastlunch', 'judge', 'fare', 'bite', 'perpared', 'dish', 'ice', 'many', 'employee', 'decided', 'tartare', 'bisque', 'bloody', 'dirt', 'not', 'spends', 'traditional', 'unprofessional', 'away', 'break', 'terrible', 'mirage', 'ensued', 'jewel', 'steak', 'coffee', 'bacon', 'priced', 'leftover', 'pepper', 'tepid', 'continue', 'tried', 'whole', 'apple', 'raspberry', 'pros', 'piece', 'cash', 'hi', 'serivce', 'unexperienced', 'convenient', 'favor', 'dessert', 'tap', 'rib', 'help', 'life', 'legit', 'making', 'carbs', 'corporation', 'took', 'hiro', 'girlfriends', 'vegetarian', 'fuzzy', 'go', 'anticipated', 'hard', 'han', 'sad', 'downtown', 'breeze', 'affordable', 'opened', 'much', 'tongue', 'every', 'town', 'restaraunt', 'peanuts', 'caring', 'petrified', 'suffers', 'guys', 'immediately', 'hole', 'taste', 'arrived', 'dos', 'host', 'sick', 'sergeant', 'mushrooms', 'joint', 'felt', 'bean', 'cibo', 'spend', 'website', 'cannot', 'green', 'free', 'hate', 'sals', 'vanilla', 'watered', 'highquality', 'bamboo', 'doubt', 'unreal', 'course', 'blame', 'providing', 'together', 'disaster', 'pats', 'business', 'sandwiches', 'struggle', 'meatballs', 'summary', 'stretch', 'wagyu', 'blah', 'jenni', 'added', 'claimed', 'anyone', 'hasnt', 'whenever', 'arepas', 'workers', 'winner', 'ignored', 'pizzas', 'thirty', 'edible', 'profiterole', 'haunt', 'number', 'sweet', 'multiple', 'colder', 'disgust', 'fly', 'read', 'couple', 'based', 'glance', 'egg', 'foodand', 'coziness', 'hands', 'aria', 'disappointed', 'massive', 'paper', 'greek', 'cost', 'deserves', 'saving', 'crab', 'filling', 'poop', 'avoid', 'deep', 'eew', 'naan', 'salt', 'flirting', 'lil', 'moz', 'drinking', 'didnt', 'rubber', 'stayed', 'soups', 'hand', 'las', 'flower', 'tribute', 'shots', 'group', 'omelets', 'several', 'readers', 'dedicated', 'presentation', 'tonight', 'perfection', 'shouldnt', 'rancheros', 'profound', 'wings', 'used', 'loved', 'eve', 'missed', 'regularly', 'simple', 'sugar', 'cheek', 'note', 'velvet', 'provides', 'overwhelm', 'stomach', 'bussell', 'gooodd', 'lighting', 'feel', 'steiners', 'reason', 'excalibur', 'craving', 'venture', 'vodka', 'store', 'occasions', 'shops', 'bits', 'basically', 'theyd', 'speedy', 'effort', 'heimer', 'falafels', 'wasting', 'saganaki', 'palate', 'greedy', 'anymore', 'carlys', 'genuinely', 'gold', 'crawfish', 'tvs', 'albondigas', 'crusty', 'tartar', 'way', 'looking', 'concern', 'cause', 'expect', 'awesome', 'gotten', 'seriously', 'cartel', 'reminded', 'elsewhere', 'weve', 'guacamole', 'perfect', 'redeeming', 'beers', 'thinly', 'white', 'cranberrymmmm', 'close', 'positive', 'largely', 'highlighted', 'tender', 'operation', 'apologize', 'workingeating', 'seasoned', 'brings', 'occasional', 'chipotle', 'businesses', 'bloodiest', 'imagine', 'verge', 'chains', 'worth', 'reheated', 'salsa', 'space', 'leave', 'become', 'mostly', 'vinaigrette', 'certainly', 'oil', 'peanut', 'mom', 'philadelphia', 'strike', 'prepared', 'godfathers', 'fails', 'frustrated', 'another', 'specialand', 'reminds', 'home', 'glad', 'one', 'pay', 'dylan', 'though', 'dead', 'burrittos', 'greens', 'magazine', 'nutshell', 'hamburger', 'circumstances', 'properly', 'waitress', 'boot', 'street', 'back', 'lots', 'anytime', 'gave', 'set', 'atrocious', 'smeared', 'corn', 'events', 'itfriendly', 'recall', 'item', 'sunglasses', 'constructed', 'eel', 'college', 'maine', 'mention', 'apology', 'piano', 'shrimp', 'pretty', 'work', 'smoothies', 'soundtrack', 'average', 'boba', 'rude', 'ignore', 'attention', 'trap', 'crisp', 'itdefinitely', 'nut', 'boyfriend', 'menus', 'cramming', 'nothing', 'stopped', 'brushfire', 'anyways', 'send', 'dough', 'well', 'classics', 'kabuki', 'looks', 'fail', 'pricing', 'cold', 'assure', 'flavorful', 'ians', 'chickenwith', 'zero', 'styrofoam', 'accomodate', 'longer', 'usual', 'publicly', 'join', 'jalapeno', 'unfortunately', 'tip', 'rock', 'needless', 'fo', 'particular', 'crispy', 'screwed', 'hardest', 'ganoush', 'selection', 'simply', 'youre', 'bathroom', 'oysters', 'foot', 'sucker', 'hummus', 'actually', 'tenders', 'talk', 'getting', 'family', 'bread', 'ownerchef', 'sauce', 'lukewarm', 'apart', 'small', 'tempi', 'mind', 'honor', 'booksomethats', 'establishment', 'seating', 'disappointment', 'table', 'forever', 'lowkey', 'satifying', 'alone', 'fine', 'serve', 'palm', 'stuffed', 'main', 'hope', 'specials', 'violinists', 'google', 'mango', 'roll', 'flavorless', 'fantastic', 'healthy', 'area', 'even', 'self', 'mozzarella', 'call', 'recent', 'neighborhood', 'overhip', 'creamy', 'awkward', 'ended', 'handsdown', 'larger', 'tasted', 'rapidly', 'round', 'next', 'hospitality', 'venue', 'car', 'parents', 'delivery', 'steakhouse', 'world', 'drinks', 'yellowtail', 'brownish', 'allergy', 'letting', 'cart', 'english', 'coconut', 'gas', 'accountant', 'vibe', 'via', 'pan', 'mojitos', 'arrives', 'lady', 'underwhelming', 'vain', 'wedges', 'different', 'humiliated', 'pancakes', 'gc', 'cut', 'almost', 'reservation', 'mortified', 'reviewer', 'beautifully', 'ramseys', 'expensive', 'minutes', 'top', 'bottom', 'fun', 'mac', 'ache', 'wont', 'witnessed', 'contain', 'register', 'inside', 'interior', 'togo', 'limited', 'isnt', 'disgraceful', 'middle', 'caterpillar', 'bring', 'plantains', 'sun', 'fact', 'pile', 'upgrading', 'late', 'desired', 'theyre', 'actual', 'including', 'beef', 'sound', 'gone', 'expanded', 'grease', 'full', 'yeah', 'exquisite', 'relleno', 'overcooked', 'cheeseburger', 'roast', 'pizza', 'boiled', 'four', 'drawing', 'cashier', 'ala', 'thought', 'maintaining', 'sucks', 'baklava', 'trimmed', 'tragedy', 'second', 'reviews', 'dirty', 'surprise', 'likes', 'selections', 'butter', 'etc', 'really', 'return', 'means', 'holiday', 'ones', 'side', 'overall', 'remember', 'delights', 'ethic', 'clue', 'nearly', 'salad', 'money', 'sticks', 'experiencing', 'placed', 'asked', 'would', 'no', 'returning', 'gets', 'itll', 'awkwardly', 'event', 'around', 'better', 'beyond', 'refused', 'cavier', 'pricey', 'comfortable', 'horrible', 'correct', 'problem', 'dine', 'maybe', 'serving', 'says', 'satisfying', 'polite', 'waited', 'cook', 'insults', 'strangers', 'soooo', 'greeted', 'care', 'leaves', 'nargile', 'watched', 'rotating', 'considering', 'taco', 'sample', 'mediocre', 'easily', 'mistake', 'leather', 'complaints', 'waiting', 'lobster', 'melt', 'ladies', 'macarons', 'meats', 'authentic', 'opportunity', 'crust', 'want', 'driest', 'charge', 'inexpensive', 'rarely', 'going', 'dusted', 'containers', 'beer', 'job', 'bodes', 'forth', 'joeys', 'night', 'peach', 'cheated', 'probably', 'topic', 'potato', 'idea', 'dreamed', 'huge', 'husband', 'arent', 'stay', 'building', 'vomited', 'ive', 'jamaican', 'chai', 'ground', 'beans', 'worstannoying', 'revisiting', 'nyc', 'right', 'cheesecurds', 'dennys', 'ahead', 'seasoning', 'since', 'prompt', 'staff', 'changing', 'absolutely', 'describing', 'italian', 'consistent', 'show', 'bars', 'pop', 'chef', 'insanely', 'tapas', 'moist', 'hopefully', 'foods', 'seen', 'caf', 'milk', 'left', 'bartender', 'decent', 'ok', 'fridays', 'preparing', 'relationship', 'food', 'disgusting', 'avoided', 'professional', 'pastry', 'nobu', 'strange', 'welcome', 'servers', 'truffle', 'anyway', 'climbing', 'texture', 'salmon', 'cafe', 'red', 'madhouse', 'worst', 'hunan', 'dripping', 'times', 'definitely', 'raving', 'concept', 'bloddy', 'north', 'tummy', 'low', 'tomato', 'meal', 'summarize', 'wonderful', 'meals', 'far', 'heart', 'couldnt', 'owners', 'consider', 'memory', 'array', 'list', 'waste', 'calamari', 'fan', 'lived', 'soup', 'monster', 'magic', 'pineapple', 'choose', 'hottest', 'moms', 'made', 'platter', 'years', 'warnings', 'forty', 'jerk', 'pace', 'brought', 'nasty', 'rolled', 'possible', 'fries', 'cooking', 'madison', 'kept', 'yourself', 'believe', 'checked', 'needs', 'satisfied', 'original', 'frenchman', 'stuff', 'camelback', 'email', 'kids', 'quality', 'worlds', 'hearts', 'helped', 'succulent', 'wines', 'crumby', 'despicable', 'enjoyable', 'wrong', 'mayo', 'meeverything', 'amount', 'sorely', 'heads', 'nonfancy', 'flatlined', 'ms', 'nude', 'blown', 'let', 'voted', 'definately', 'wasnt', 'omg', 'anything', 'cream', 'opinion', 'great', 'version', 'son', 'services', 'happened', 'dollars', 'wish', 'eaten', 'apparently', 'strawberry', 'bouchon', 'san', 'chewy', 'disappointing', 'quit', 'cheese', 'chicken', 'mid', 'less', 'perhaps', 'hell', 'silently', 'bagels', 'uploaded', 'rice', 'stepped', 'exactly', 'mellow', 'experience', 'pulled', 'ha', 'handling', 'meat', 'enough', 'relax', 'accident', 'yummy', 'prepare', 'delight', 'boring', 'teamwork', 'exceptional', 'sauces', 'lost', 'shopping', 'pears', 'months', 'date', 'try', 'turkey', 'flavourful', 'waitresses', 'attached', 'killer', 'trippy', 'poured', 'places', 'patio', 'cakes', 'hes', 'ravoli', 'plastic', 'must', 'slow', 'step', 'veal', 'impressed', 'got', 'mood', 'brick', 'ths', 'lightly', 'devine', 'weekly', 'spots', 'instantly', 'crazy', 'grocery', 'complete', 'rudely', 'ironman', 'appetizers', 'ratio', 'charcoal', 'proclaimed', 'clean', 'guest', 'cape', 'whether', 'hopes', 'reasons', 'soooooo', 'large', 'classywarm', 'fillet', 'everyone', 'realized', 'hereas', 'location', 'homemade', 'visited', 'almonds', 'off', 'water', 'plater', 'poisoning', 'seal', 'ball', 'everything', 'ventilation', 'bucks', 'half', 'bartenders', 'tiramisu', 'vegetables', 'needed', 'order', 'burger', 'hip', 'caesar', 'pancake', 'tacos', 'dinners', 'phenomenal', 'service', 'crystals', 'sign', 'crowds', 'bay', 'attack', 'fell', 'unwrapped', 'juice', 'extraordinary', 'attitudes', 'charged', 'wienerschnitzel', 'songs', 'playing', 'lovers', 'eyed', 'unique', 'beauty', 'breakfast', 'strings', 'burgers', 'neat', 'begin', 'generous', 'regular', 'airline', 'provided', 'total', 'upway', 'mesquite', 'huevos', 'person', 'terrific', 'understand', 'dealing', 'eggs', 'imaginative', 'lacking', 'freezing', 'worse', 'lawyers', 'menu', 'sore', 'christmas', 'dark', 'id', 'spring', 'mayowell', 'stood', 'come', 'saffron', 'die', 'fill', 'despite', 'lordy', 'outdoor', 'havent', 'kind', 'decor', 'yukon', 'paradise', 'inhouse', 'know', 'pale', 'refried', 'station', 'pine', 'flop', 'goldencrispy', 'pucks', 'ranch', 'box', 'delish', 'covers', 'biscuit', 'head', 'treated', 'came', 'wrap', 'bye', 'summer', 'especially', 'served', 'melted', 'swung', 'ask', 'airport', 'couples', 'joy', 'friendly', 'khao', 'similarly', 'five', 'law', 'wide', 'last', 'helpful', 'thoroughly', 'personally', 'wait', 'nachos', 'putting', 'showed', 'potatoes', 'lets', 'papers', 'fucking', 'quite', 'lastly', 'banana', 'else', 'price', 'looked', 'crowd', 'touched', 'opposed', 'combo', 'plain', 'solid', 'hostess', 'please', 'expertconnisseur', 'classic', 'greasy', 'paid', 'mouthful', 'soi', 'industry', 'yelpers', 'hilarious', 'ninja', 'southwest', 'bland', 'get', 'charming', 'worker', 'seems', 'atmosphere', 'unbelievable', 'onion', 'two', 'insulted', 'fluffy', 'lack', 'dry', 'fairly', 'attentive', 'bill', 'vegas', 'dried', 'wontons', 'suck', 'sugary', 'tigerlilly', 'hated', 'slaw', 'hot', 'noncustomer', 'black', 'bar', 'chocolate', 'mains', 'herewhat', 'bitches', 'special', 'vegasthere', 'difference', 'roasted', 'nice', 'scallop', 'figured', 'costcos', 'older', 'rest', 'shop', 'wayyy', 'teeth', 'fresh', 'something', 'visit', 'hours', 'furthermore', 'ayce', 'thumbs', 'shawarrrrrrma', 'blows', 'say', 'casino', 'typical', 'werent', 'del', 'penne', 'rich', 'filet', 'descriptions', 'theft', 'cocktail', 'chipolte', 'panna', 'nan', 'cocktails', 'gross', 'gem', 'thai', 'dressed', 'place', 'multigrain', 'chefs', 'hoping', 'crpe', 'indoor', 'although', 'inconsiderate', 'experienced', 'luck', 'extra', 'blandest', 'rings', 'batch', 'dishes', 'fat', 'choux', 'need', 'company', 'youll', 'end', 'pack', 'power', 'smelled', 'juries', 'block', 'fair', 'name', 'deuchebaggery', 'veggitarian', 'busy', 'sense', 'mussels', 'peas', 'included', 'day', 'sadly', 'found', 'informative', 'decorated', 'underservices', 'thats', 'love', 'heard', 'fs', 'inflate', 'star', 'happy', 'ill', 'mile', 'curry', 'pink', 'excuse', 'bird', 'sangria', 'front', 'companions', 'indicate', 'personable', 'military', 'common', 'youd', 'replenished', 'buldogis', 'decision', 'ryans', 'wave', 'afternoon', 'point', 'kiddos', 'customer', 'twice', 'noodles', 'tastings', 'gordon', 'light', 'lovely', 'takeout', 'pub', 'slices', 'hour', 'garlic', 'shoots', 'luke', 'disappoint', 'ate', 'lunch', 'tailored', 'veganveggie', 'poorly', 'warmer', 'style', 'man', 'martini', 'pho', 'highlights', 'scene', 'refreshing', 'buffets', 'outta', 'liked', 'bad', 'recommended', 'signs', 'andddd', 'freaking', 'toro', 'sause', 'metro', 'fried', 'either', 'giving', 'part', 'rare', 'wouldnt', 'finish', 'correction', 'thin', 'rating', 'sorry', 'hooked', 'halibut', 'wouldve', 'gratuity', 'struck', 'garden', 'binge', 'grow', 'pork', 'thing', 'tasteless', 'otherwise', 'appealing', 'pured', 'sooooo', 'falling', 'bother', 'avocado', 'impeccable', 'options', 'loudly', 'salads', 'went', 'writing', 'breaks', 'rinse', 'appetite', 'receives', 'smaller', 'hadnt', 'fella', 'recently', 'bargain', 'performed', 'overwhelmed', 'drunk', 'dressing', 'poor', 'serves', 'big', 'pita', 'always', 'loving', 'reasonably', 'tea', 'party', 'min', 'today', 'rate', 'pneumatic', 'grossed', 'public', 'buying', 'letdown', 'inviting', 'wine', 'ways', 'appetizer', 'six', 'driving', 'wire', 'toasted', 'capers', 'caballeros', 'dates', 'closed', 'disrespected', 'gratitude', 'absolutley', 'sides', 'patron', 'reading', 'third', 'without', 'week', 'favorite', 'asking', 'finally', 'server', 'pecan', 'seemed', 'value', 'firehouse', 'customize', 'subway', 'relocated', 'wrapped', 'forward', 'valley', 'tough', 'pissd', 'muffin', 'suggestions', 'accommodations', 'sucked', 'funny', 'mebunch', 'equally', 'extremely', 'however', 'delightful', 'sliced', 'recommendation', 'living', 'powdered', 'mediterranean', 'sitting', 'customers', 'lb', 'desserts', 'latte', 'ambiance', 'behind', 'wife', 'recommending', 'modern', 'watch', 'disgusted', 'bellagio', 'mushroom', 'blue', 'soggy', 'first', 'mall', 'thus', 'plethora', 'caught', 'promptly', 'dont', 'sprouts', 'lettuce', 'officially', 'sexy', 'spicy', 'gyros', 'given', 'app', 'con', 'goat', 'frozen', 'amazingrge', 'elegantly', 'touch', 'rowdy', 'nigiri', 'transcendant', 'hella', 'muststop', 'drink', 'plate', 'long', 'missing', 'fondue', 'still', 'people', 'might', 'totally', 'class', 'truly', 'bbq', 'promise', 'refrained', 'orders', 'us', 'baba', 'ripped', 'biscuits', 'puree', 'pepperand', 'dispenser', 'shirt', 'updatewent', 'compliments', 'carpaccio', 'damn', 'music', 'groups', 'heat', 'ridiculous', 'flavored', 'elk', 'stir', 'downside', 'enjoyed', 'petty', 'stars', 'phoenix', 'mouth', 'least', 'listed', 'highlight', 'never', 'nay', 'crostini', 'lemon', 'entrees', 'nicest', 'calligraphy', 'rather', 'later', 'outrageously', 'held', 'trying', 'grilled', 'past', 'standard', 'neither', 'yama', 'ingredients', 'cakeohhh', 'wildly', 'inspired', 'room', 'smoke', 'time', 'like', 'section', 'subpar', 'milkshake', 'bowl', 'packed', 'also', 'literally', 'judging', 'rolls', 'walls', 'fireball', 'belly', 'tolerance', 'dipping', 'imagination', 'reviewing', 'cover', 'trips', 'eyes', 'pleasure', 'perfectly', 'meh', 'solidify', 'enthusiastic', 'fabulous', 'guests', 'yet', 'japanese', 'sitdown', 'hello', 'running', 'unbelievably', 'gloveseverything', 'iced', 'eclectic', 'honeslty', 'bone', 'dime', 'duo', 'giant', 'cod', 'give', 'downright', 'baseball', 'towards', 'doughy', 'hair', 'handled', 'ever', 'legs', 'review', 'spinach', 'year', 'dining', 'dog', 'rightthe', 'use', 'mexican', 'decide', 'starving', 'relaxed', 'marrow', 'thru', 'someone', 'thrilled', 'pictures', 'sure', 'coming', 'hawaiian', 'could', 'bakery', 'trip', 'quaint', 'good', 'ten', 'patty', 'absolute', 'tots', 'quantity', 'similar', 'outstanding', 'acknowledged', 'rated', 'boxes', 'management', 'dinner', 'disagree', 'maria', 'fish', 'kitchen', 'folks', 'douchey', 'cant', 'chow', 'little', 'worries', 'postinos', 'beautiful', 'shower', 'batter', 'portion', 'francisco', 'brunch', 'steaks', 'thanks', 'bunch', 'buffet', 'done', 'unless', 'ri', 'disapppointment', 'somehow', 'scottsdale', 'shoe', 'sunday', 'smooth', 'located', 'suggest', 'combos', 'stale', 'none', 'ordering', 'dude', 'contained', 'tasty', 'servicecheck', 'supposed', 'seated', 'surprised', 'weak', 'tops', 'cashew', 'wow', 'house', 'shall', 'smashburger', 'callings', 'generic', 'courteous', 'burned', 'hardly', 'reduction', 'az', 'chickens', 'bigger', 'sever', 'evening', 'club', 'baby', 'sandwich', 'wall', 'flair', 'parties', 'movies', 'completely', 'wasted', 'seasonal', 'angry', 'venturing', 'cow', 'imagined', 'loves', 'sat', 'managed', 'sushi', 'spotty', 'wound', 'biggest', 'take', 'prime', 'cotta', 'par', 'daughter', 'degree', 'cannoli', 'deliver', 'approval', 'flat', 'deliciously', 'delicious', 'amazing', 'unwelcome', 'daily', 'others', 'drastically', 'negligent', 'think', 'marys', 'strip', 'instead', 'qualified', 'rick', 'drenched', 'single', 'outshining', 'cool', 'owned', 'look', 'double', 'oh', 'talking', 'crema', 'flavors', 'tiny', 'cheap', 'lot', 'yay', 'honestly', 'soon', 'boys', 'court', 'appalling', 'bus', 'interesting', 'untoasted', 'lox', 'im', 'received', 'owner', 'delicate', 'tater', 'passed', 'unsatisfying', 'impressive', 'focused', 'glass', 'uninspired', 'entire', 'loyal', 'color', 'yellow', 'arriving', 'things', 'finger', 'barely', 'pastas', 'thinking', 'screams', 'olives', 'bathrooms', 'enjoy', 'drag', 'overpriced', 'real', 'efficient', 'foodservice', 'liking', 'joke', 'paying', 'steve', 'bellies', 'tell', 'obviously', 'meatloaf', 'spaghetti', 'waaaaaayyyyyyyyyy', 'boy', 'diverse', 'duck', 'treat', 'char', 'offered', 'familiar', 'voodoo', 'greatest', 'blow', 'editing', 'connoisseur', 'turn', 'friends', 'mgm', 'cuisine', 'bruschetta', 'famous', 'incredibly', 'beensteppedinandtrackedeverywhere', 'new', 'mouths', 'eating', 'besides', 'jeff', 'see', 'find', 'meet', 'put', 'def', 'lighter', 'market', 'spot', 'cooked', 'ago', 'flavor', 'drive', 'tucson', 'sour', 'thick', 'beat', 'pleasant', 'friend', 'weird', 'fellow', 'stinks', 'bare', 'plus', 'otto', 'margaritas', 'spice', 'wanted', 'donut', 'eat', 'portions', 'stupid', 'play', 'salty', 'walked', 'recommend', 'across', 'prettyoff', 'whatsoever', 'old', 'risotto', 'unhealthy', 'vinegrette', 'excellent', 'highly', 'happier', 'seafood', 'tuna', 'gluten', 'hits', 'medium', 'honest', 'mixed', 'fry', 'noca', 'door', 'pumpkin', 'combination', 'smells', 'sub', 'tables', 'fear', 'fast', 'deal', 'wash', 'gourmet', 'word', 'delicioso', 'lover', 'conclusion', 'blanket', 'mandalay', 'privileged', 'undercooked', 'chip', 'article', 'yaall', 'croutons', 'ordered', 'bank', 'feels', 'stop', 'mess', 'level', 'crepe', 'pleased', 'mmmm', 'words', 'refill', 'brisket', 'due', 'empty', 'auju', 'works', 'indian', 'ample', 'proven', 'guess', 'condiment', 'requested', 'rushed', 'manager', 'said', 'accordingly', 'overhaul', 'told', 'complain', 'staying', 'ribeye', 'guy', 'disgrace', 'pasta', 'gristle', 'grandmother', 'case', 'sharply', 'setting', 'sporting', 'shocked', 'handed', 'handmade', 'restaurant', 'yum', 'extensive', 'offers', 'incredible', 'grill', 'high', 'chips', 'somewhat', 'mary', 'inch', 'prefer', 'oven', 'cute', 'hurry', 'sewer', 'spices', 'check', 'live', 'vacant', 'super', 'warm', 'exceeding', 'final', 'short', 'wants', 'picture', 'toast', 'chinese', 'started', 'quickly', 'best', 'expectations', 'mein', 'quick', 'brother', 'eggplant'}\n"
          ]
        }
      ]
    },
    {
      "cell_type": "markdown",
      "source": [
        "*   **Comentarios**\n",
        "\n",
        "Las expresiones regulares permiten encontrar patrones en el texto para poder tokenizar dicho texto, limpiando signos de puntuación, y palabras \"stopwords\" con poco significado, por ejemplo. En conclusión, dichas técnicas y herramientas representan una importante introducción al procesamiento de lenguaje natural."
      ],
      "metadata": {
        "id": "NDbKkuxRbLoX"
      }
    },
    {
      "cell_type": "markdown",
      "source": [
        "##**Fin de la Actividad de la semana 2.**"
      ],
      "metadata": {
        "id": "PHaKw_6Ldbaf"
      }
    }
  ]
}
